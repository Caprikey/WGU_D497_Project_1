{
 "cells": [
  {
   "cell_type": "code",
   "execution_count": null,
   "id": "a09e0715-b383-4d6c-be3a-a00fb2fe0b57",
   "metadata": {},
   "outputs": [],
   "source": [
    "# Data Analysis - FIPS\n",
    "# Version 7\n",
    "## 1/12/25\n",
    "## 17:10"
   ]
  },
  {
   "cell_type": "code",
   "execution_count": null,
   "id": "952087a8-06ed-4ce4-b9f1-784e453dc38b",
   "metadata": {},
   "outputs": [],
   "source": [
    "# Importing Modules\n",
    "import sys\n",
    "import os\n",
    "\n",
    "# Add the root directory to sys.path\n",
    "sys.path.append(os.path.abspath(\"..\"))\n",
    "\n",
    "# Now you can use absolute imports\n",
    "from d497_helpers import folder_manager as fm, archive_module, checkpoint_helper as CheckPoint, database_helper as db_tool, config\n",
    "\n",
    "#### #### #### #### \n",
    "\n",
    "# Pandas\n",
    "import pandas as pd\n",
    "\n",
    "# Numpy\n",
    "import numpy as np\n",
    "\n",
    "# RegularExpression for string matching\n",
    "import re\n",
    "\n",
    "# GLOB \n",
    "import glob \n",
    "\n",
    "# Pathlib \n",
    "from pathlib import Path\n",
    "\n",
    "# CSV\n",
    "import csv\n",
    "\n",
    "# RapidFuzz \n",
    "from rapidfuzz import process"
   ]
  },
  {
   "cell_type": "code",
   "execution_count": null,
   "id": "87982ea3-a903-4d64-913d-b9e67582e467",
   "metadata": {},
   "outputs": [],
   "source": [
    "def get_main_dataframe(input_file_name):\n",
    "    \n",
    "    global ufo_data_main_df_csv\n",
    "    global ufo_data_main_df_pickle\n",
    "\n",
    "    import_csv_dtypes = {\n",
    "     \"report_id\" : \"object\",\n",
    "     \"year_code\" : \"object\",\n",
    "     \"month_code\" : \"object\",\n",
    "     \"state_code\" : \"object\",\n",
    "     \"county_code\" : \"object\",\n",
    "     \"city_code\" : \"object\",\n",
    "     \"fips\" : \"object\"\n",
    " }\n",
    "    \n",
    "    file_name = input_file_name\n",
    "    \n",
    "    file_path_csv = config.global_cleaned_ufo_data_folder_path + \"/\" + file_name + \".csv\"\n",
    "    file_path_pickle = config.global_cleaned_ufo_data_folder_path + \"/\" + file_name  + \".pkl\"\n",
    "    \n",
    "    import_main_df_csv = pd.read_csv(file_path_csv, sep=\",\", dtype=import_csv_dtypes)\n",
    "    import_main_df_pickle = pd.read_pickle(file_path_pickle)\n",
    "\n",
    "    ufo_data_main_df_csv = import_main_df_csv.copy()\n",
    "    ufo_data_main_df_pickle = import_main_df_pickle.copy()\n",
    "\n",
    "    del import_main_df_csv\n",
    "    del import_main_df_pickle"
   ]
  },
  {
   "cell_type": "code",
   "execution_count": null,
   "id": "572de0ed-5bce-4231-8a52-378358fbaab7",
   "metadata": {},
   "outputs": [],
   "source": [
    "# Initializes Database Engine and Session For SQL\n",
    "db_tool.initialize_engine()\n",
    "db_tool.initialize_session()\n"
   ]
  },
  {
   "cell_type": "code",
   "execution_count": 1,
   "id": "d4a279d7-4b23-4566-95ce-72ec05a51281",
   "metadata": {},
   "outputs": [],
   "source": [
    "get_multiple_county_cities_sql = \"\"\"\n",
    "\n",
    "    SELECT\n",
    "    \n",
    "        *\n",
    "        \n",
    "    FROM\n",
    "        fips_data\n",
    "        \n",
    "        WHERE\n",
    "        \n",
    "            multi_county_flag == \"1\"\n",
    "            \n",
    "            ORDER BY \n",
    "                state_fipcode, city_name, county_rank\n",
    "        \n",
    "\n",
    "\n",
    "\"\"\""
   ]
  },
  {
   "cell_type": "code",
   "execution_count": null,
   "id": "f1678b3d-911e-429f-999e-f9f54b35b7de",
   "metadata": {},
   "outputs": [],
   "source": [
    "ufo_data_main_df.groupby(by=[\"year_code\", \"month_code\", \"state_code\", \"county_code\"]).size().sort_values(ascending=False).reset_index(name=\"count\")"
   ]
  }
 ],
 "metadata": {
  "kernelspec": {
   "display_name": "Python 3 (ipykernel)",
   "language": "python",
   "name": "python3"
  },
  "language_info": {
   "codemirror_mode": {
    "name": "ipython",
    "version": 3
   },
   "file_extension": ".py",
   "mimetype": "text/x-python",
   "name": "python",
   "nbconvert_exporter": "python",
   "pygments_lexer": "ipython3",
   "version": "3.13.1"
  }
 },
 "nbformat": 4,
 "nbformat_minor": 5
}
