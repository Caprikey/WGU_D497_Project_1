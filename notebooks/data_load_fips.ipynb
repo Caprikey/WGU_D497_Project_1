{
 "cells": [
  {
   "cell_type": "code",
   "execution_count": 22,
   "id": "ba50864e-aa7b-4b53-b948-867d4e140fbb",
   "metadata": {},
   "outputs": [],
   "source": [
    "# Data Load - FIPS \n",
    "## Version 3\n",
    "## 1/26/25\n",
    "## 23:00"
   ]
  },
  {
   "cell_type": "code",
   "execution_count": 23,
   "id": "127f054d-8b24-4260-8d09-55f0ac74f8f5",
   "metadata": {},
   "outputs": [],
   "source": [
    "# Import Sys\n",
    "import sys\n",
    "\n",
    "# Import OS\n",
    "import os\n",
    "\n",
    "# Add the root directory to sys.path\n",
    "sys.path.append(os.path.abspath(\"..\"))\n",
    "\n",
    "# Now you can use absolute imports\n",
    "from d497_helpers import folder_manager as fm, archive_module, checkpoint_helper as CheckPoint, database_helper as db_tool, config\n",
    "\n",
    "# Pandas\n",
    "import pandas as pd\n",
    "\n",
    "# Numpy\n",
    "import numpy as np\n",
    "\n",
    "\n"
   ]
  },
  {
   "cell_type": "code",
   "execution_count": 24,
   "id": "94c00ce4-dd37-4f99-90d5-80f65abac7bc",
   "metadata": {},
   "outputs": [],
   "source": [
    "# Function imports checkpoint files from previous step\n",
    "\n",
    "def load_FIPS_data():\n",
    "\n",
    "    global fips_data_main_df_csv\n",
    "    global fips_data_main_df_pickle\n",
    "\n",
    "    csv_dtypes = {\n",
    "        'state_name': str,\n",
    "        'county_name': str,\n",
    "        'city_name': str,\n",
    "        'state_code': str,\n",
    "        'state_fipcode': str,\n",
    "        'county_code': str,\n",
    "        'county_fipcode': str,\n",
    "        'city_code': str,\n",
    "        'city_fipcode': str\n",
    "    }\n",
    "\n",
    "    file_name_csv = \"fips_data_cleaning_complete.csv\"\n",
    "    \n",
    "    file_name_pickle = \"fips_data_cleaning_complete.pkl\"\n",
    "    \n",
    "    file_path_csv = config.global_processed_fips_data_folder_path + \"/\" + file_name_csv\n",
    "    file_path_pickle = config.global_processed_fips_data_folder_path + \"/\" + file_name_pickle\n",
    "\n",
    "    import_main_df_csv = pd.read_csv(file_path_csv, sep=\",\", dtype=csv_dtypes)\n",
    "    import_main_df_pickle = pd.read_pickle(file_path_pickle)\n",
    "\n",
    "        \n",
    "    fips_data_main_df_csv = import_main_df_csv.copy()\n",
    "    fips_data_main_df_pickle = import_main_df_pickle.copy()\n",
    "\n",
    "\n",
    "    del import_main_df_csv\n",
    "    del import_main_df_pickle\n",
    "\n",
    "    "
   ]
  },
  {
   "cell_type": "code",
   "execution_count": 25,
   "id": "012a9d18-a717-4b49-a64d-190558d04801",
   "metadata": {},
   "outputs": [
    {
     "ename": "FileNotFoundError",
     "evalue": "[Errno 2] No such file or directory: 'D:\\\\WGU\\\\New folder\\\\D497\\\\WGU_D497_Project_1\\\\data\\\\processed_data\\\\fips_data/fips_data_cleaning_complete.csv'",
     "output_type": "error",
     "traceback": [
      "\u001b[1;31m---------------------------------------------------------------------------\u001b[0m",
      "\u001b[1;31mFileNotFoundError\u001b[0m                         Traceback (most recent call last)",
      "Cell \u001b[1;32mIn[25], line 6\u001b[0m\n\u001b[0;32m      3\u001b[0m db_tool\u001b[38;5;241m.\u001b[39minitialize_session()\n\u001b[0;32m      5\u001b[0m \u001b[38;5;66;03m# Runs load fips data function\u001b[39;00m\n\u001b[1;32m----> 6\u001b[0m \u001b[43mload_FIPS_data\u001b[49m\u001b[43m(\u001b[49m\u001b[43m)\u001b[49m\n",
      "Cell \u001b[1;32mIn[24], line 27\u001b[0m, in \u001b[0;36mload_FIPS_data\u001b[1;34m()\u001b[0m\n\u001b[0;32m     24\u001b[0m file_path_csv \u001b[38;5;241m=\u001b[39m config\u001b[38;5;241m.\u001b[39mglobal_processed_fips_data_folder_path \u001b[38;5;241m+\u001b[39m \u001b[38;5;124m\"\u001b[39m\u001b[38;5;124m/\u001b[39m\u001b[38;5;124m\"\u001b[39m \u001b[38;5;241m+\u001b[39m file_name_csv\n\u001b[0;32m     25\u001b[0m file_path_pickle \u001b[38;5;241m=\u001b[39m config\u001b[38;5;241m.\u001b[39mglobal_processed_fips_data_folder_path \u001b[38;5;241m+\u001b[39m \u001b[38;5;124m\"\u001b[39m\u001b[38;5;124m/\u001b[39m\u001b[38;5;124m\"\u001b[39m \u001b[38;5;241m+\u001b[39m file_name_pickle\n\u001b[1;32m---> 27\u001b[0m import_main_df_csv \u001b[38;5;241m=\u001b[39m \u001b[43mpd\u001b[49m\u001b[38;5;241;43m.\u001b[39;49m\u001b[43mread_csv\u001b[49m\u001b[43m(\u001b[49m\u001b[43mfile_path_csv\u001b[49m\u001b[43m,\u001b[49m\u001b[43m \u001b[49m\u001b[43msep\u001b[49m\u001b[38;5;241;43m=\u001b[39;49m\u001b[38;5;124;43m\"\u001b[39;49m\u001b[38;5;124;43m,\u001b[39;49m\u001b[38;5;124;43m\"\u001b[39;49m\u001b[43m,\u001b[49m\u001b[43m \u001b[49m\u001b[43mdtype\u001b[49m\u001b[38;5;241;43m=\u001b[39;49m\u001b[43mcsv_dtypes\u001b[49m\u001b[43m)\u001b[49m\n\u001b[0;32m     28\u001b[0m import_main_df_pickle \u001b[38;5;241m=\u001b[39m pd\u001b[38;5;241m.\u001b[39mread_pickle(file_path_pickle)\n\u001b[0;32m     31\u001b[0m fips_data_main_df_csv \u001b[38;5;241m=\u001b[39m import_main_df_csv\u001b[38;5;241m.\u001b[39mcopy()\n",
      "File \u001b[1;32mD:\\WGU\\New folder\\D497\\virtual_envs\\D497_Project_1_venv\\Lib\\site-packages\\pandas\\io\\parsers\\readers.py:1026\u001b[0m, in \u001b[0;36mread_csv\u001b[1;34m(filepath_or_buffer, sep, delimiter, header, names, index_col, usecols, dtype, engine, converters, true_values, false_values, skipinitialspace, skiprows, skipfooter, nrows, na_values, keep_default_na, na_filter, verbose, skip_blank_lines, parse_dates, infer_datetime_format, keep_date_col, date_parser, date_format, dayfirst, cache_dates, iterator, chunksize, compression, thousands, decimal, lineterminator, quotechar, quoting, doublequote, escapechar, comment, encoding, encoding_errors, dialect, on_bad_lines, delim_whitespace, low_memory, memory_map, float_precision, storage_options, dtype_backend)\u001b[0m\n\u001b[0;32m   1013\u001b[0m kwds_defaults \u001b[38;5;241m=\u001b[39m _refine_defaults_read(\n\u001b[0;32m   1014\u001b[0m     dialect,\n\u001b[0;32m   1015\u001b[0m     delimiter,\n\u001b[1;32m   (...)\u001b[0m\n\u001b[0;32m   1022\u001b[0m     dtype_backend\u001b[38;5;241m=\u001b[39mdtype_backend,\n\u001b[0;32m   1023\u001b[0m )\n\u001b[0;32m   1024\u001b[0m kwds\u001b[38;5;241m.\u001b[39mupdate(kwds_defaults)\n\u001b[1;32m-> 1026\u001b[0m \u001b[38;5;28;01mreturn\u001b[39;00m \u001b[43m_read\u001b[49m\u001b[43m(\u001b[49m\u001b[43mfilepath_or_buffer\u001b[49m\u001b[43m,\u001b[49m\u001b[43m \u001b[49m\u001b[43mkwds\u001b[49m\u001b[43m)\u001b[49m\n",
      "File \u001b[1;32mD:\\WGU\\New folder\\D497\\virtual_envs\\D497_Project_1_venv\\Lib\\site-packages\\pandas\\io\\parsers\\readers.py:620\u001b[0m, in \u001b[0;36m_read\u001b[1;34m(filepath_or_buffer, kwds)\u001b[0m\n\u001b[0;32m    617\u001b[0m _validate_names(kwds\u001b[38;5;241m.\u001b[39mget(\u001b[38;5;124m\"\u001b[39m\u001b[38;5;124mnames\u001b[39m\u001b[38;5;124m\"\u001b[39m, \u001b[38;5;28;01mNone\u001b[39;00m))\n\u001b[0;32m    619\u001b[0m \u001b[38;5;66;03m# Create the parser.\u001b[39;00m\n\u001b[1;32m--> 620\u001b[0m parser \u001b[38;5;241m=\u001b[39m \u001b[43mTextFileReader\u001b[49m\u001b[43m(\u001b[49m\u001b[43mfilepath_or_buffer\u001b[49m\u001b[43m,\u001b[49m\u001b[43m \u001b[49m\u001b[38;5;241;43m*\u001b[39;49m\u001b[38;5;241;43m*\u001b[39;49m\u001b[43mkwds\u001b[49m\u001b[43m)\u001b[49m\n\u001b[0;32m    622\u001b[0m \u001b[38;5;28;01mif\u001b[39;00m chunksize \u001b[38;5;129;01mor\u001b[39;00m iterator:\n\u001b[0;32m    623\u001b[0m     \u001b[38;5;28;01mreturn\u001b[39;00m parser\n",
      "File \u001b[1;32mD:\\WGU\\New folder\\D497\\virtual_envs\\D497_Project_1_venv\\Lib\\site-packages\\pandas\\io\\parsers\\readers.py:1620\u001b[0m, in \u001b[0;36mTextFileReader.__init__\u001b[1;34m(self, f, engine, **kwds)\u001b[0m\n\u001b[0;32m   1617\u001b[0m     \u001b[38;5;28mself\u001b[39m\u001b[38;5;241m.\u001b[39moptions[\u001b[38;5;124m\"\u001b[39m\u001b[38;5;124mhas_index_names\u001b[39m\u001b[38;5;124m\"\u001b[39m] \u001b[38;5;241m=\u001b[39m kwds[\u001b[38;5;124m\"\u001b[39m\u001b[38;5;124mhas_index_names\u001b[39m\u001b[38;5;124m\"\u001b[39m]\n\u001b[0;32m   1619\u001b[0m \u001b[38;5;28mself\u001b[39m\u001b[38;5;241m.\u001b[39mhandles: IOHandles \u001b[38;5;241m|\u001b[39m \u001b[38;5;28;01mNone\u001b[39;00m \u001b[38;5;241m=\u001b[39m \u001b[38;5;28;01mNone\u001b[39;00m\n\u001b[1;32m-> 1620\u001b[0m \u001b[38;5;28mself\u001b[39m\u001b[38;5;241m.\u001b[39m_engine \u001b[38;5;241m=\u001b[39m \u001b[38;5;28;43mself\u001b[39;49m\u001b[38;5;241;43m.\u001b[39;49m\u001b[43m_make_engine\u001b[49m\u001b[43m(\u001b[49m\u001b[43mf\u001b[49m\u001b[43m,\u001b[49m\u001b[43m \u001b[49m\u001b[38;5;28;43mself\u001b[39;49m\u001b[38;5;241;43m.\u001b[39;49m\u001b[43mengine\u001b[49m\u001b[43m)\u001b[49m\n",
      "File \u001b[1;32mD:\\WGU\\New folder\\D497\\virtual_envs\\D497_Project_1_venv\\Lib\\site-packages\\pandas\\io\\parsers\\readers.py:1880\u001b[0m, in \u001b[0;36mTextFileReader._make_engine\u001b[1;34m(self, f, engine)\u001b[0m\n\u001b[0;32m   1878\u001b[0m     \u001b[38;5;28;01mif\u001b[39;00m \u001b[38;5;124m\"\u001b[39m\u001b[38;5;124mb\u001b[39m\u001b[38;5;124m\"\u001b[39m \u001b[38;5;129;01mnot\u001b[39;00m \u001b[38;5;129;01min\u001b[39;00m mode:\n\u001b[0;32m   1879\u001b[0m         mode \u001b[38;5;241m+\u001b[39m\u001b[38;5;241m=\u001b[39m \u001b[38;5;124m\"\u001b[39m\u001b[38;5;124mb\u001b[39m\u001b[38;5;124m\"\u001b[39m\n\u001b[1;32m-> 1880\u001b[0m \u001b[38;5;28mself\u001b[39m\u001b[38;5;241m.\u001b[39mhandles \u001b[38;5;241m=\u001b[39m \u001b[43mget_handle\u001b[49m\u001b[43m(\u001b[49m\n\u001b[0;32m   1881\u001b[0m \u001b[43m    \u001b[49m\u001b[43mf\u001b[49m\u001b[43m,\u001b[49m\n\u001b[0;32m   1882\u001b[0m \u001b[43m    \u001b[49m\u001b[43mmode\u001b[49m\u001b[43m,\u001b[49m\n\u001b[0;32m   1883\u001b[0m \u001b[43m    \u001b[49m\u001b[43mencoding\u001b[49m\u001b[38;5;241;43m=\u001b[39;49m\u001b[38;5;28;43mself\u001b[39;49m\u001b[38;5;241;43m.\u001b[39;49m\u001b[43moptions\u001b[49m\u001b[38;5;241;43m.\u001b[39;49m\u001b[43mget\u001b[49m\u001b[43m(\u001b[49m\u001b[38;5;124;43m\"\u001b[39;49m\u001b[38;5;124;43mencoding\u001b[39;49m\u001b[38;5;124;43m\"\u001b[39;49m\u001b[43m,\u001b[49m\u001b[43m \u001b[49m\u001b[38;5;28;43;01mNone\u001b[39;49;00m\u001b[43m)\u001b[49m\u001b[43m,\u001b[49m\n\u001b[0;32m   1884\u001b[0m \u001b[43m    \u001b[49m\u001b[43mcompression\u001b[49m\u001b[38;5;241;43m=\u001b[39;49m\u001b[38;5;28;43mself\u001b[39;49m\u001b[38;5;241;43m.\u001b[39;49m\u001b[43moptions\u001b[49m\u001b[38;5;241;43m.\u001b[39;49m\u001b[43mget\u001b[49m\u001b[43m(\u001b[49m\u001b[38;5;124;43m\"\u001b[39;49m\u001b[38;5;124;43mcompression\u001b[39;49m\u001b[38;5;124;43m\"\u001b[39;49m\u001b[43m,\u001b[49m\u001b[43m \u001b[49m\u001b[38;5;28;43;01mNone\u001b[39;49;00m\u001b[43m)\u001b[49m\u001b[43m,\u001b[49m\n\u001b[0;32m   1885\u001b[0m \u001b[43m    \u001b[49m\u001b[43mmemory_map\u001b[49m\u001b[38;5;241;43m=\u001b[39;49m\u001b[38;5;28;43mself\u001b[39;49m\u001b[38;5;241;43m.\u001b[39;49m\u001b[43moptions\u001b[49m\u001b[38;5;241;43m.\u001b[39;49m\u001b[43mget\u001b[49m\u001b[43m(\u001b[49m\u001b[38;5;124;43m\"\u001b[39;49m\u001b[38;5;124;43mmemory_map\u001b[39;49m\u001b[38;5;124;43m\"\u001b[39;49m\u001b[43m,\u001b[49m\u001b[43m \u001b[49m\u001b[38;5;28;43;01mFalse\u001b[39;49;00m\u001b[43m)\u001b[49m\u001b[43m,\u001b[49m\n\u001b[0;32m   1886\u001b[0m \u001b[43m    \u001b[49m\u001b[43mis_text\u001b[49m\u001b[38;5;241;43m=\u001b[39;49m\u001b[43mis_text\u001b[49m\u001b[43m,\u001b[49m\n\u001b[0;32m   1887\u001b[0m \u001b[43m    \u001b[49m\u001b[43merrors\u001b[49m\u001b[38;5;241;43m=\u001b[39;49m\u001b[38;5;28;43mself\u001b[39;49m\u001b[38;5;241;43m.\u001b[39;49m\u001b[43moptions\u001b[49m\u001b[38;5;241;43m.\u001b[39;49m\u001b[43mget\u001b[49m\u001b[43m(\u001b[49m\u001b[38;5;124;43m\"\u001b[39;49m\u001b[38;5;124;43mencoding_errors\u001b[39;49m\u001b[38;5;124;43m\"\u001b[39;49m\u001b[43m,\u001b[49m\u001b[43m \u001b[49m\u001b[38;5;124;43m\"\u001b[39;49m\u001b[38;5;124;43mstrict\u001b[39;49m\u001b[38;5;124;43m\"\u001b[39;49m\u001b[43m)\u001b[49m\u001b[43m,\u001b[49m\n\u001b[0;32m   1888\u001b[0m \u001b[43m    \u001b[49m\u001b[43mstorage_options\u001b[49m\u001b[38;5;241;43m=\u001b[39;49m\u001b[38;5;28;43mself\u001b[39;49m\u001b[38;5;241;43m.\u001b[39;49m\u001b[43moptions\u001b[49m\u001b[38;5;241;43m.\u001b[39;49m\u001b[43mget\u001b[49m\u001b[43m(\u001b[49m\u001b[38;5;124;43m\"\u001b[39;49m\u001b[38;5;124;43mstorage_options\u001b[39;49m\u001b[38;5;124;43m\"\u001b[39;49m\u001b[43m,\u001b[49m\u001b[43m \u001b[49m\u001b[38;5;28;43;01mNone\u001b[39;49;00m\u001b[43m)\u001b[49m\u001b[43m,\u001b[49m\n\u001b[0;32m   1889\u001b[0m \u001b[43m\u001b[49m\u001b[43m)\u001b[49m\n\u001b[0;32m   1890\u001b[0m \u001b[38;5;28;01massert\u001b[39;00m \u001b[38;5;28mself\u001b[39m\u001b[38;5;241m.\u001b[39mhandles \u001b[38;5;129;01mis\u001b[39;00m \u001b[38;5;129;01mnot\u001b[39;00m \u001b[38;5;28;01mNone\u001b[39;00m\n\u001b[0;32m   1891\u001b[0m f \u001b[38;5;241m=\u001b[39m \u001b[38;5;28mself\u001b[39m\u001b[38;5;241m.\u001b[39mhandles\u001b[38;5;241m.\u001b[39mhandle\n",
      "File \u001b[1;32mD:\\WGU\\New folder\\D497\\virtual_envs\\D497_Project_1_venv\\Lib\\site-packages\\pandas\\io\\common.py:873\u001b[0m, in \u001b[0;36mget_handle\u001b[1;34m(path_or_buf, mode, encoding, compression, memory_map, is_text, errors, storage_options)\u001b[0m\n\u001b[0;32m    868\u001b[0m \u001b[38;5;28;01melif\u001b[39;00m \u001b[38;5;28misinstance\u001b[39m(handle, \u001b[38;5;28mstr\u001b[39m):\n\u001b[0;32m    869\u001b[0m     \u001b[38;5;66;03m# Check whether the filename is to be opened in binary mode.\u001b[39;00m\n\u001b[0;32m    870\u001b[0m     \u001b[38;5;66;03m# Binary mode does not support 'encoding' and 'newline'.\u001b[39;00m\n\u001b[0;32m    871\u001b[0m     \u001b[38;5;28;01mif\u001b[39;00m ioargs\u001b[38;5;241m.\u001b[39mencoding \u001b[38;5;129;01mand\u001b[39;00m \u001b[38;5;124m\"\u001b[39m\u001b[38;5;124mb\u001b[39m\u001b[38;5;124m\"\u001b[39m \u001b[38;5;129;01mnot\u001b[39;00m \u001b[38;5;129;01min\u001b[39;00m ioargs\u001b[38;5;241m.\u001b[39mmode:\n\u001b[0;32m    872\u001b[0m         \u001b[38;5;66;03m# Encoding\u001b[39;00m\n\u001b[1;32m--> 873\u001b[0m         handle \u001b[38;5;241m=\u001b[39m \u001b[38;5;28;43mopen\u001b[39;49m\u001b[43m(\u001b[49m\n\u001b[0;32m    874\u001b[0m \u001b[43m            \u001b[49m\u001b[43mhandle\u001b[49m\u001b[43m,\u001b[49m\n\u001b[0;32m    875\u001b[0m \u001b[43m            \u001b[49m\u001b[43mioargs\u001b[49m\u001b[38;5;241;43m.\u001b[39;49m\u001b[43mmode\u001b[49m\u001b[43m,\u001b[49m\n\u001b[0;32m    876\u001b[0m \u001b[43m            \u001b[49m\u001b[43mencoding\u001b[49m\u001b[38;5;241;43m=\u001b[39;49m\u001b[43mioargs\u001b[49m\u001b[38;5;241;43m.\u001b[39;49m\u001b[43mencoding\u001b[49m\u001b[43m,\u001b[49m\n\u001b[0;32m    877\u001b[0m \u001b[43m            \u001b[49m\u001b[43merrors\u001b[49m\u001b[38;5;241;43m=\u001b[39;49m\u001b[43merrors\u001b[49m\u001b[43m,\u001b[49m\n\u001b[0;32m    878\u001b[0m \u001b[43m            \u001b[49m\u001b[43mnewline\u001b[49m\u001b[38;5;241;43m=\u001b[39;49m\u001b[38;5;124;43m\"\u001b[39;49m\u001b[38;5;124;43m\"\u001b[39;49m\u001b[43m,\u001b[49m\n\u001b[0;32m    879\u001b[0m \u001b[43m        \u001b[49m\u001b[43m)\u001b[49m\n\u001b[0;32m    880\u001b[0m     \u001b[38;5;28;01melse\u001b[39;00m:\n\u001b[0;32m    881\u001b[0m         \u001b[38;5;66;03m# Binary mode\u001b[39;00m\n\u001b[0;32m    882\u001b[0m         handle \u001b[38;5;241m=\u001b[39m \u001b[38;5;28mopen\u001b[39m(handle, ioargs\u001b[38;5;241m.\u001b[39mmode)\n",
      "\u001b[1;31mFileNotFoundError\u001b[0m: [Errno 2] No such file or directory: 'D:\\\\WGU\\\\New folder\\\\D497\\\\WGU_D497_Project_1\\\\data\\\\processed_data\\\\fips_data/fips_data_cleaning_complete.csv'"
     ]
    }
   ],
   "source": [
    "# Initializes Database Engine and Session For SQL\n",
    "db_tool.initialize_engine()\n",
    "db_tool.initialize_session()\n",
    "\n",
    "# Runs load fips data function\n",
    "load_FIPS_data()"
   ]
  },
  {
   "cell_type": "code",
   "execution_count": null,
   "id": "a5890c43-f846-4264-b912-2b6545f1bc48",
   "metadata": {},
   "outputs": [],
   "source": [
    "# getting info of the fips data csv file imported\n",
    "fips_data_main_df_csv.info()"
   ]
  },
  {
   "cell_type": "code",
   "execution_count": null,
   "id": "f9340ad9-0e18-4983-978e-3928c95b3128",
   "metadata": {},
   "outputs": [],
   "source": [
    "# getting data from the fips data pickle file that was imported \n",
    "fips_data_main_df_pickle.info()"
   ]
  },
  {
   "cell_type": "code",
   "execution_count": null,
   "id": "90688917-23b3-4680-aea7-1ae5c91b8f32",
   "metadata": {},
   "outputs": [],
   "source": [
    "# keeping the pickle file and copying it over to a the main working dataframe. \n",
    "fips_data_main_df = fips_data_main_df_pickle.copy()\n",
    "\n",
    "# cleaning up by deleting imported dataframe\n",
    "del fips_data_main_df_csv\n",
    "del fips_data_main_df_pickle"
   ]
  },
  {
   "cell_type": "code",
   "execution_count": null,
   "id": "435bd9bb-1e84-446d-a6b9-4b3eff2fa8dc",
   "metadata": {},
   "outputs": [],
   "source": [
    "# getting info for fips data main file. \n",
    "fips_data_main_df.info()"
   ]
  },
  {
   "cell_type": "code",
   "execution_count": null,
   "id": "142c1e0b-62fd-4c61-ada4-65d97f069061",
   "metadata": {},
   "outputs": [],
   "source": [
    "# visually checking dataframe with sample function \n",
    "\n",
    "fips_data_main_df.sample(15)\n"
   ]
  },
  {
   "cell_type": "code",
   "execution_count": null,
   "id": "b2556111-3b11-4ffe-8b1e-6fc87149867a",
   "metadata": {},
   "outputs": [],
   "source": [
    "# exporiting dataframe into the sql database using my database helper tool\n",
    "\n",
    "db_tool.export_to_sql(fips_data_main_df, \"fips_data\")"
   ]
  },
  {
   "cell_type": "code",
   "execution_count": null,
   "id": "87fc8eda-d10a-4536-a950-614a14dba509",
   "metadata": {},
   "outputs": [],
   "source": [
    "# Sql query string to pull all the data from the newly created database table\n",
    "commit_test_sql = \"SELECT * FROM fips_data\""
   ]
  },
  {
   "cell_type": "code",
   "execution_count": null,
   "id": "6ed6d932-ffbb-487a-a947-398dfcd1ebcc",
   "metadata": {},
   "outputs": [],
   "source": [
    "# Creating empty dataframe to hold the results of the export\n",
    "\n",
    "commit_confirmation_df = pd.DataFrame()"
   ]
  },
  {
   "cell_type": "code",
   "execution_count": null,
   "id": "b5ed44a2-6750-4cb1-b184-1183e1b90191",
   "metadata": {},
   "outputs": [],
   "source": [
    "# Exporting data from the sql database to the newly created dataframe using my database helper tool \n",
    "\n",
    "commit_confirmation_df = db_tool.export_df_from_sql(commit_test_sql, commit_confirmation_df)"
   ]
  },
  {
   "cell_type": "code",
   "execution_count": null,
   "id": "8c4d1c1d-75b5-4d84-8c09-d33e94b7050c",
   "metadata": {},
   "outputs": [],
   "source": [
    "# Visually inspecting data\n",
    "commit_confirmation_df.head()"
   ]
  },
  {
   "cell_type": "code",
   "execution_count": null,
   "id": "b7382070-a57d-4ab0-894d-5a46c9544698",
   "metadata": {},
   "outputs": [],
   "source": [
    "# Checking data information \n",
    "commit_confirmation_df.info()"
   ]
  },
  {
   "cell_type": "code",
   "execution_count": null,
   "id": "6715f804-33c6-47cd-9351-091446d8a216",
   "metadata": {},
   "outputs": [],
   "source": [
    "# Getting the size of the data\n",
    "commit_confirmation_df.shape[0]"
   ]
  },
  {
   "cell_type": "code",
   "execution_count": null,
   "id": "d0551bc1-f546-4484-a6d4-7dcbf26343a4",
   "metadata": {},
   "outputs": [],
   "source": [
    "# getting the original dataframe's size\n",
    "fips_data_main_df.shape[0]"
   ]
  },
  {
   "cell_type": "code",
   "execution_count": null,
   "id": "2f085ca4-8b4c-4451-ab21-9108ebb8f9b3",
   "metadata": {},
   "outputs": [],
   "source": [
    "# Programmatically comparing the two datafram's sizes \n",
    "assert commit_confirmation_df.shape[0] == fips_data_main_df.shape[0]"
   ]
  },
  {
   "cell_type": "code",
   "execution_count": null,
   "id": "e8032aa2-8647-412f-9733-552a0a1b2925",
   "metadata": {},
   "outputs": [],
   "source": [
    "# Creating an export of the data to be saved to the cleaned data folder as the ETL for the fips data as been completed thus far. \n",
    "CheckPoint.create_checkpoint(\"cleaned_fips_data\", \"fips_data_main_df\", fips_data_main_df)"
   ]
  },
  {
   "cell_type": "code",
   "execution_count": null,
   "id": "74a6cda7-047b-4ace-b7bd-06d3fa0f2469",
   "metadata": {},
   "outputs": [],
   "source": [
    "# Archiving all files used for this process to clean up\n",
    "set_search_pattern = \"*fips*\"\n",
    "set_search_folder = \"processed_fips_data\"\n",
    "set_save_folder = \"archived_fips_data\"\n",
    "set_save_file = \"FIPS_Data_Extract_and_Cleaning_Parts\"\n",
    "filter_extension = False\n",
    "filter_by_file_extension = None\n",
    "archive_module.create_archive(set_search_pattern, set_search_folder, set_save_folder, set_save_file, filter_extension, filter_by_file_extension, delete=True)"
   ]
  },
  {
   "cell_type": "code",
   "execution_count": null,
   "id": "5c567c94-4058-4fd3-95c2-859632f75fb4",
   "metadata": {},
   "outputs": [],
   "source": [
    "del commit_confirmation_df\n",
    "del fips_data_main_df"
   ]
  },
  {
   "cell_type": "markdown",
   "id": "c35a32db-e049-4cb0-92dd-7bfa447dd9f6",
   "metadata": {},
   "source": [
    "## [Next Step: Data Transformation - State Lookup Data](data_transformation_state_lookup.ipynb)\n",
    "---\n",
    "#### [Return To Landing Page](order_of_operations_landing.ipynb)"
   ]
  }
 ],
 "metadata": {
  "kernelspec": {
   "display_name": "Python 3 (ipykernel)",
   "language": "python",
   "name": "python3"
  },
  "language_info": {
   "codemirror_mode": {
    "name": "ipython",
    "version": 3
   },
   "file_extension": ".py",
   "mimetype": "text/x-python",
   "name": "python",
   "nbconvert_exporter": "python",
   "pygments_lexer": "ipython3",
   "version": "3.13.1"
  }
 },
 "nbformat": 4,
 "nbformat_minor": 5
}
