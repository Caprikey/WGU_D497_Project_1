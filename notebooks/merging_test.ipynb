{
 "cells": [
  {
   "cell_type": "code",
   "execution_count": null,
   "id": "48fed4c7-017e-4f20-9b73-2644f1a54fea",
   "metadata": {},
   "outputs": [],
   "source": []
  },
  {
   "cell_type": "code",
   "execution_count": null,
   "id": "2fd0b645-0220-42e5-a69f-4ed6baf8badd",
   "metadata": {},
   "outputs": [],
   "source": []
  },
  {
   "cell_type": "code",
   "execution_count": null,
   "id": "357f7426-ac23-4e64-8799-042b3b22d07b",
   "metadata": {},
   "outputs": [],
   "source": []
  },
  {
   "cell_type": "code",
   "execution_count": null,
   "id": "0a6b4ab6-992c-4464-83b3-614d999999ac",
   "metadata": {},
   "outputs": [],
   "source": []
  },
  {
   "cell_type": "code",
   "execution_count": null,
   "id": "cb8e99d2-d5bf-4586-868a-256fc3489cb0",
   "metadata": {},
   "outputs": [],
   "source": [
    "get_single_county_cities_sql = \"\"\"\n",
    "\n",
    "    SELECT\n",
    "    \n",
    "        *\n",
    "        \n",
    "    FROM\n",
    "        fips_data\n",
    "        \n",
    "        WHERE\n",
    "        \n",
    "            multi_county_flag == \"1\"\n",
    "            \n",
    "            ORDER BY \n",
    "                state_fipcode, city_name, county_rank\n",
    "        \n",
    "\n",
    "\n",
    "\"\"\""
   ]
  },
  {
   "cell_type": "code",
   "execution_count": null,
   "id": "4930a93f-66a9-4c0f-8a3a-6cb22ca542ec",
   "metadata": {},
   "outputs": [],
   "source": []
  },
  {
   "cell_type": "code",
   "execution_count": 107,
   "id": "3a011650-bac2-49d3-a0a3-a0d48dd8cff2",
   "metadata": {},
   "outputs": [],
   "source": [
    "get_cleaned_dataframe(\"cdc_data\", \"cdc_data_main_df\")"
   ]
  },
  {
   "cell_type": "code",
   "execution_count": null,
   "id": "9a492333-b20e-470b-b252-f81ac3aa21ae",
   "metadata": {},
   "outputs": [],
   "source": [
    "import_data_main_df_csv.info()"
   ]
  },
  {
   "cell_type": "code",
   "execution_count": 109,
   "id": "c90379f9-c01c-45b5-aa80-f12c7196cf93",
   "metadata": {},
   "outputs": [
    {
     "name": "stdout",
     "output_type": "stream",
     "text": [
      "<class 'pandas.core.frame.DataFrame'>\n",
      "RangeIndex: 204528 entries, 0 to 204527\n",
      "Data columns (total 5 columns):\n",
      " #   Column       Non-Null Count   Dtype \n",
      "---  ------       --------------   ----- \n",
      " 0   year_code    204528 non-null  object\n",
      " 1   month_code   204528 non-null  object\n",
      " 2   state_code   204528 non-null  object\n",
      " 3   county_code  204528 non-null  object\n",
      " 4   births       204528 non-null  int64 \n",
      "dtypes: int64(1), object(4)\n",
      "memory usage: 7.8+ MB\n"
     ]
    }
   ],
   "source": [
    "import_data_main_df_pickle.info()"
   ]
  },
  {
   "cell_type": "code",
   "execution_count": 110,
   "id": "cac21968-18ff-4001-a7bc-214745ded2d4",
   "metadata": {},
   "outputs": [],
   "source": [
    "cdc_data_main_df = import_data_main_df_pickle.copy()"
   ]
  },
  {
   "cell_type": "code",
   "execution_count": 111,
   "id": "f1e6485c-c318-4502-9896-07678091ae20",
   "metadata": {},
   "outputs": [],
   "source": [
    "del import_data_main_df_csv\n",
    "del import_data_main_df_pickle"
   ]
  },
  {
   "cell_type": "code",
   "execution_count": 112,
   "id": "59282015-33f6-416f-b5ab-44aab8fe60e1",
   "metadata": {},
   "outputs": [
    {
     "name": "stdout",
     "output_type": "stream",
     "text": [
      "<class 'pandas.core.frame.DataFrame'>\n",
      "RangeIndex: 204528 entries, 0 to 204527\n",
      "Data columns (total 5 columns):\n",
      " #   Column       Non-Null Count   Dtype \n",
      "---  ------       --------------   ----- \n",
      " 0   year_code    204528 non-null  object\n",
      " 1   month_code   204528 non-null  object\n",
      " 2   state_code   204528 non-null  object\n",
      " 3   county_code  204528 non-null  object\n",
      " 4   births       204528 non-null  int64 \n",
      "dtypes: int64(1), object(4)\n",
      "memory usage: 7.8+ MB\n"
     ]
    }
   ],
   "source": [
    "cdc_data_main_df.info()"
   ]
  },
  {
   "cell_type": "code",
   "execution_count": 113,
   "id": "0c8f70f1-6855-4a3b-ae46-5429f59a8695",
   "metadata": {},
   "outputs": [],
   "source": [
    "cdc_data_main_df.columns = ['year_code', 'month_code','state_fipcode','fips_five', 'births']"
   ]
  },
  {
   "cell_type": "code",
   "execution_count": 114,
   "id": "574e4661-1203-4bb2-af1c-287889e68e78",
   "metadata": {},
   "outputs": [
    {
     "name": "stdout",
     "output_type": "stream",
     "text": [
      "<class 'pandas.core.frame.DataFrame'>\n",
      "RangeIndex: 204528 entries, 0 to 204527\n",
      "Data columns (total 5 columns):\n",
      " #   Column         Non-Null Count   Dtype \n",
      "---  ------         --------------   ----- \n",
      " 0   year_code      204528 non-null  object\n",
      " 1   month_code     204528 non-null  object\n",
      " 2   state_fipcode  204528 non-null  object\n",
      " 3   fips_five      204528 non-null  object\n",
      " 4   births         204528 non-null  int64 \n",
      "dtypes: int64(1), object(4)\n",
      "memory usage: 7.8+ MB\n"
     ]
    }
   ],
   "source": [
    "cdc_data_main_df.info()"
   ]
  },
  {
   "cell_type": "code",
   "execution_count": 115,
   "id": "a32159ca-fd81-4dab-b078-3bea341618d7",
   "metadata": {},
   "outputs": [],
   "source": [
    "cdc_data_main_df['county_fipcode'] = \"C\" + (cdc_data_main_df['fips_five'].str.slice(-3))"
   ]
  },
  {
   "cell_type": "code",
   "execution_count": 128,
   "id": "81aebf60-0b0a-4a50-ac96-b0133a86abe7",
   "metadata": {},
   "outputs": [
    {
     "name": "stdout",
     "output_type": "stream",
     "text": [
      "<class 'pandas.core.frame.DataFrame'>\n",
      "RangeIndex: 204528 entries, 0 to 204527\n",
      "Data columns (total 6 columns):\n",
      " #   Column          Non-Null Count   Dtype \n",
      "---  ------          --------------   ----- \n",
      " 0   year_code       204528 non-null  object\n",
      " 1   month_code      204528 non-null  object\n",
      " 2   state_fipcode   204528 non-null  object\n",
      " 3   county_fipcode  204528 non-null  object\n",
      " 4   fips_five       204528 non-null  object\n",
      " 5   births          204528 non-null  int64 \n",
      "dtypes: int64(1), object(5)\n",
      "memory usage: 9.4+ MB\n"
     ]
    }
   ],
   "source": [
    "cdc_data_main_df.info()"
   ]
  },
  {
   "cell_type": "code",
   "execution_count": 117,
   "id": "e5bd2626-fd1f-42aa-8c7a-383b1649897f",
   "metadata": {},
   "outputs": [],
   "source": [
    "cdc_data_main_df.insert(3, 'county_fipcode', cdc_data_main_df.pop('county_fipcode'))"
   ]
  },
  {
   "cell_type": "code",
   "execution_count": 125,
   "id": "6250d372-270b-441e-bdfe-fe225e3a87c1",
   "metadata": {},
   "outputs": [
    {
     "name": "stdout",
     "output_type": "stream",
     "text": [
      "<class 'pandas.core.frame.DataFrame'>\n",
      "RangeIndex: 204528 entries, 0 to 204527\n",
      "Data columns (total 6 columns):\n",
      " #   Column          Non-Null Count   Dtype \n",
      "---  ------          --------------   ----- \n",
      " 0   year_code       204528 non-null  object\n",
      " 1   month_code      204528 non-null  object\n",
      " 2   state_fipcode   204528 non-null  object\n",
      " 3   county_fipcode  204528 non-null  object\n",
      " 4   fips_five       204528 non-null  object\n",
      " 5   births          204528 non-null  int64 \n",
      "dtypes: int64(1), object(5)\n",
      "memory usage: 9.4+ MB\n"
     ]
    }
   ],
   "source": [
    "cdc_data_main_df.info()"
   ]
  },
  {
   "cell_type": "code",
   "execution_count": 160,
   "id": "50a428a0-8bcf-4a08-ae19-6de3f21873eb",
   "metadata": {},
   "outputs": [],
   "source": [
    "combinding_cdc_ufo_df = pd.merge(cdc_data_main_df, in_scope_sightings, on=['state_fipcode', 'county_fipcode', 'fips_five'], how=\"inner\")"
   ]
  },
  {
   "cell_type": "code",
   "execution_count": 161,
   "id": "87672bc9-48e9-40b9-984e-b583bfe9fbf3",
   "metadata": {},
   "outputs": [
    {
     "name": "stdout",
     "output_type": "stream",
     "text": [
      "<class 'pandas.core.frame.DataFrame'>\n",
      "RangeIndex: 16937352 entries, 0 to 16937351\n",
      "Data columns (total 9 columns):\n",
      " #   Column          Dtype \n",
      "---  ------          ----- \n",
      " 0   year_code_x     object\n",
      " 1   month_code_x    object\n",
      " 2   state_fipcode   object\n",
      " 3   county_fipcode  object\n",
      " 4   fips_five       object\n",
      " 5   births          int64 \n",
      " 6   year_code_y     object\n",
      " 7   month_code_y    object\n",
      " 8   count           int64 \n",
      "dtypes: int64(2), object(7)\n",
      "memory usage: 1.1+ GB\n"
     ]
    }
   ],
   "source": [
    "combinding_cdc_ufo_df.info()"
   ]
  },
  {
   "cell_type": "code",
   "execution_count": 182,
   "id": "fcabdf92-cd8b-442e-a3e6-eb5f95b54ea9",
   "metadata": {},
   "outputs": [],
   "source": [
    "combined_cdc_ufo_df_2 = pd.merge(in_scope_sightings, cdc_data_main_df, on=['year_code','month_code'], how=\"left\", indicator=True)"
   ]
  },
  {
   "cell_type": "code",
   "execution_count": 183,
   "id": "b53dfd8b-f50c-4281-ab6f-63e60bf1fd9f",
   "metadata": {},
   "outputs": [
    {
     "name": "stdout",
     "output_type": "stream",
     "text": [
      "<class 'pandas.core.frame.DataFrame'>\n",
      "RangeIndex: 83661 entries, 0 to 83660\n",
      "Data columns (total 11 columns):\n",
      " #   Column            Non-Null Count  Dtype   \n",
      "---  ------            --------------  -----   \n",
      " 0   year_code         83661 non-null  object  \n",
      " 1   month_code        83661 non-null  object  \n",
      " 2   state_fipcode_x   83661 non-null  object  \n",
      " 3   county_fipcode_x  83661 non-null  object  \n",
      " 4   count             83661 non-null  int64   \n",
      " 5   fips_five_x       83661 non-null  object  \n",
      " 6   state_fipcode_y   0 non-null      object  \n",
      " 7   county_fipcode_y  0 non-null      object  \n",
      " 8   fips_five_y       0 non-null      object  \n",
      " 9   births            0 non-null      float64 \n",
      " 10  _merge            83661 non-null  category\n",
      "dtypes: category(1), float64(1), int64(1), object(8)\n",
      "memory usage: 6.5+ MB\n"
     ]
    }
   ],
   "source": [
    "combined_cdc_ufo_df_2.info()"
   ]
  },
  {
   "cell_type": "code",
   "execution_count": 163,
   "id": "7b095047-e79e-4df0-9cb8-a20f613b4f75",
   "metadata": {},
   "outputs": [],
   "source": [
    "missing_ufo = in_scope_sightings.merge(cdc_data_main_df, on=['year_code', 'month_code', 'fips_five'], how=\"left\", indicator=True)"
   ]
  },
  {
   "cell_type": "code",
   "execution_count": 164,
   "id": "2e615d4b-406a-422d-91dc-c1121ef1f68f",
   "metadata": {},
   "outputs": [
    {
     "name": "stdout",
     "output_type": "stream",
     "text": [
      "<class 'pandas.core.frame.DataFrame'>\n",
      "RangeIndex: 83661 entries, 0 to 83660\n",
      "Data columns (total 10 columns):\n",
      " #   Column            Non-Null Count  Dtype   \n",
      "---  ------            --------------  -----   \n",
      " 0   year_code         83661 non-null  object  \n",
      " 1   month_code        83661 non-null  object  \n",
      " 2   state_fipcode_x   83661 non-null  object  \n",
      " 3   county_fipcode_x  83661 non-null  object  \n",
      " 4   count             83661 non-null  int64   \n",
      " 5   fips_five         83661 non-null  object  \n",
      " 6   state_fipcode_y   0 non-null      object  \n",
      " 7   county_fipcode_y  0 non-null      object  \n",
      " 8   births            0 non-null      float64 \n",
      " 9   _merge            83661 non-null  category\n",
      "dtypes: category(1), float64(1), int64(1), object(7)\n",
      "memory usage: 5.8+ MB\n"
     ]
    }
   ],
   "source": [
    "missing_ufo.info()"
   ]
  },
  {
   "cell_type": "code",
   "execution_count": 165,
   "id": "22d2e03a-9f29-4af8-831d-8eacab780a39",
   "metadata": {},
   "outputs": [],
   "source": [
    "missing_cdc = cdc_data_main_df.merge(in_scope_sightings, on=['year_code', 'month_code', 'fips_five'], how=\"left\", indicator=True)"
   ]
  },
  {
   "cell_type": "code",
   "execution_count": 167,
   "id": "9f60a6ac-1c4b-422c-ab0d-6890431e7afa",
   "metadata": {},
   "outputs": [],
   "source": [
    "missing_cdc = missing_cdc.loc[missing_cdc['_merge'] == 'left_only']"
   ]
  },
  {
   "cell_type": "code",
   "execution_count": 169,
   "id": "477fc076-0d1e-4a97-96ca-a66465c41553",
   "metadata": {},
   "outputs": [
    {
     "name": "stdout",
     "output_type": "stream",
     "text": [
      "<class 'pandas.core.frame.DataFrame'>\n",
      "Index: 204528 entries, 0 to 204527\n",
      "Data columns (total 10 columns):\n",
      " #   Column            Non-Null Count   Dtype   \n",
      "---  ------            --------------   -----   \n",
      " 0   year_code         204528 non-null  object  \n",
      " 1   month_code        204528 non-null  object  \n",
      " 2   state_fipcode_x   204528 non-null  object  \n",
      " 3   county_fipcode_x  204528 non-null  object  \n",
      " 4   fips_five         204528 non-null  object  \n",
      " 5   births            204528 non-null  int64   \n",
      " 6   state_fipcode_y   0 non-null       object  \n",
      " 7   county_fipcode_y  0 non-null       object  \n",
      " 8   count             0 non-null       float64 \n",
      " 9   _merge            204528 non-null  category\n",
      "dtypes: category(1), float64(1), int64(1), object(7)\n",
      "memory usage: 15.8+ MB\n"
     ]
    }
   ],
   "source": [
    "missing_cdc.info()"
   ]
  },
  {
   "cell_type": "code",
   "execution_count": 170,
   "id": "2a043e51-5e7a-4dbd-bd45-56c2b74b006e",
   "metadata": {},
   "outputs": [],
   "source": [
    "missing_ufo = missing_ufo[missing_ufo['_merge'] == 'left_only']"
   ]
  },
  {
   "cell_type": "code",
   "execution_count": 171,
   "id": "f650bf4d-9d6e-4959-a95a-e788a98a6c72",
   "metadata": {
    "scrolled": true
   },
   "outputs": [
    {
     "name": "stdout",
     "output_type": "stream",
     "text": [
      "<class 'pandas.core.frame.DataFrame'>\n",
      "RangeIndex: 83661 entries, 0 to 83660\n",
      "Data columns (total 10 columns):\n",
      " #   Column            Non-Null Count  Dtype   \n",
      "---  ------            --------------  -----   \n",
      " 0   year_code         83661 non-null  object  \n",
      " 1   month_code        83661 non-null  object  \n",
      " 2   state_fipcode_x   83661 non-null  object  \n",
      " 3   county_fipcode_x  83661 non-null  object  \n",
      " 4   count             83661 non-null  int64   \n",
      " 5   fips_five         83661 non-null  object  \n",
      " 6   state_fipcode_y   0 non-null      object  \n",
      " 7   county_fipcode_y  0 non-null      object  \n",
      " 8   births            0 non-null      float64 \n",
      " 9   _merge            83661 non-null  category\n",
      "dtypes: category(1), float64(1), int64(1), object(7)\n",
      "memory usage: 5.8+ MB\n"
     ]
    }
   ],
   "source": [
    "missing_ufo.info()"
   ]
  },
  {
   "cell_type": "code",
   "execution_count": 246,
   "id": "05ea9a6a-270b-476e-9429-c1b20420829d",
   "metadata": {},
   "outputs": [],
   "source": [
    "all_combinations_df = cdc_data_main_df[['year_code', 'month_code', 'state_fipcode', 'county_fipcode','fips_five']].drop_duplicates()"
   ]
  },
  {
   "cell_type": "code",
   "execution_count": 247,
   "id": "ad47fee2-acb2-4e98-b53d-1cf14a28a331",
   "metadata": {},
   "outputs": [],
   "source": [
    "merged_data_df = pd.merge(all_combinations_df, cdc_data_main_df, on=['year_code', 'month_code', 'state_fipcode', 'county_fipcode','fips_five'], how=\"left\")"
   ]
  },
  {
   "cell_type": "code",
   "execution_count": 248,
   "id": "bdcb3adc-6442-4fae-9ed6-86af9b54d189",
   "metadata": {},
   "outputs": [
    {
     "data": {
      "text/html": [
       "<div>\n",
       "<style scoped>\n",
       "    .dataframe tbody tr th:only-of-type {\n",
       "        vertical-align: middle;\n",
       "    }\n",
       "\n",
       "    .dataframe tbody tr th {\n",
       "        vertical-align: top;\n",
       "    }\n",
       "\n",
       "    .dataframe thead th {\n",
       "        text-align: right;\n",
       "    }\n",
       "</style>\n",
       "<table border=\"1\" class=\"dataframe\">\n",
       "  <thead>\n",
       "    <tr style=\"text-align: right;\">\n",
       "      <th></th>\n",
       "      <th>year_code</th>\n",
       "      <th>month_code</th>\n",
       "      <th>state_fipcode</th>\n",
       "      <th>county_fipcode</th>\n",
       "      <th>count</th>\n",
       "      <th>fips_five</th>\n",
       "    </tr>\n",
       "  </thead>\n",
       "  <tbody>\n",
       "    <tr>\n",
       "      <th>1979</th>\n",
       "      <td>1994</td>\n",
       "      <td>1</td>\n",
       "      <td>06</td>\n",
       "      <td>C037</td>\n",
       "      <td>4</td>\n",
       "      <td>06037</td>\n",
       "    </tr>\n",
       "    <tr>\n",
       "      <th>73162</th>\n",
       "      <td>1994</td>\n",
       "      <td>1</td>\n",
       "      <td>06</td>\n",
       "      <td>C053</td>\n",
       "      <td>1</td>\n",
       "      <td>06053</td>\n",
       "    </tr>\n",
       "    <tr>\n",
       "      <th>73163</th>\n",
       "      <td>1994</td>\n",
       "      <td>1</td>\n",
       "      <td>06</td>\n",
       "      <td>C089</td>\n",
       "      <td>1</td>\n",
       "      <td>06089</td>\n",
       "    </tr>\n",
       "    <tr>\n",
       "      <th>73164</th>\n",
       "      <td>1994</td>\n",
       "      <td>1</td>\n",
       "      <td>06</td>\n",
       "      <td>C111</td>\n",
       "      <td>1</td>\n",
       "      <td>06111</td>\n",
       "    </tr>\n",
       "    <tr>\n",
       "      <th>73165</th>\n",
       "      <td>1994</td>\n",
       "      <td>1</td>\n",
       "      <td>08</td>\n",
       "      <td>C117</td>\n",
       "      <td>1</td>\n",
       "      <td>08117</td>\n",
       "    </tr>\n",
       "  </tbody>\n",
       "</table>\n",
       "</div>"
      ],
      "text/plain": [
       "      year_code month_code state_fipcode county_fipcode  count fips_five\n",
       "1979       1994          1            06           C037      4     06037\n",
       "73162      1994          1            06           C053      1     06053\n",
       "73163      1994          1            06           C089      1     06089\n",
       "73164      1994          1            06           C111      1     06111\n",
       "73165      1994          1            08           C117      1     08117"
      ]
     },
     "execution_count": 248,
     "metadata": {},
     "output_type": "execute_result"
    }
   ],
   "source": [
    "in_scope_sightings.head(5)"
   ]
  },
  {
   "cell_type": "code",
   "execution_count": 249,
   "id": "8752a3fc-76bf-474d-9032-a8eda577ff8f",
   "metadata": {},
   "outputs": [],
   "source": [
    "merged_data_df = pd.merge(merged_data_df, in_scope_sightings, on=['year_code', 'month_code', 'state_fipcode', 'county_fipcode','fips_five'], how=\"left\")"
   ]
  },
  {
   "cell_type": "code",
   "execution_count": 231,
   "id": "3ba8b4db-93c5-48fc-8c6d-344b9b8f0fa2",
   "metadata": {},
   "outputs": [],
   "source": [
    "merged_data_df['count'] = merged_data_df['count'].fillna(0)"
   ]
  },
  {
   "cell_type": "code",
   "execution_count": 250,
   "id": "8bb05d2f-bd34-4460-a843-7587ba90c566",
   "metadata": {},
   "outputs": [
    {
     "name": "stdout",
     "output_type": "stream",
     "text": [
      "<class 'pandas.core.frame.DataFrame'>\n",
      "RangeIndex: 204528 entries, 0 to 204527\n",
      "Data columns (total 7 columns):\n",
      " #   Column          Non-Null Count   Dtype  \n",
      "---  ------          --------------   -----  \n",
      " 0   year_code       204528 non-null  object \n",
      " 1   month_code      204528 non-null  object \n",
      " 2   state_fipcode   204528 non-null  object \n",
      " 3   county_fipcode  204528 non-null  object \n",
      " 4   fips_five       204528 non-null  object \n",
      " 5   births          204528 non-null  int64  \n",
      " 6   count           0 non-null       float64\n",
      "dtypes: float64(1), int64(1), object(5)\n",
      "memory usage: 10.9+ MB\n"
     ]
    }
   ],
   "source": [
    "merged_data_df.info()"
   ]
  },
  {
   "cell_type": "code",
   "execution_count": 233,
   "id": "8ff49a6b-5995-44da-bac1-fa13354fc35e",
   "metadata": {},
   "outputs": [
    {
     "data": {
      "text/html": [
       "<div>\n",
       "<style scoped>\n",
       "    .dataframe tbody tr th:only-of-type {\n",
       "        vertical-align: middle;\n",
       "    }\n",
       "\n",
       "    .dataframe tbody tr th {\n",
       "        vertical-align: top;\n",
       "    }\n",
       "\n",
       "    .dataframe thead th {\n",
       "        text-align: right;\n",
       "    }\n",
       "</style>\n",
       "<table border=\"1\" class=\"dataframe\">\n",
       "  <thead>\n",
       "    <tr style=\"text-align: right;\">\n",
       "      <th></th>\n",
       "      <th>year_code</th>\n",
       "      <th>month_code</th>\n",
       "      <th>state_fipcode</th>\n",
       "      <th>county_fipcode</th>\n",
       "      <th>fips_five</th>\n",
       "      <th>births</th>\n",
       "      <th>count</th>\n",
       "    </tr>\n",
       "  </thead>\n",
       "  <tbody>\n",
       "    <tr>\n",
       "      <th>37281</th>\n",
       "      <td>2001</td>\n",
       "      <td>10</td>\n",
       "      <td>08</td>\n",
       "      <td>C031</td>\n",
       "      <td>08031</td>\n",
       "      <td>949</td>\n",
       "      <td>0.0</td>\n",
       "    </tr>\n",
       "    <tr>\n",
       "      <th>92223</th>\n",
       "      <td>2009</td>\n",
       "      <td>2</td>\n",
       "      <td>26</td>\n",
       "      <td>C163</td>\n",
       "      <td>26163</td>\n",
       "      <td>1929</td>\n",
       "      <td>0.0</td>\n",
       "    </tr>\n",
       "    <tr>\n",
       "      <th>163758</th>\n",
       "      <td>2018</td>\n",
       "      <td>8</td>\n",
       "      <td>12</td>\n",
       "      <td>C097</td>\n",
       "      <td>12097</td>\n",
       "      <td>427</td>\n",
       "      <td>0.0</td>\n",
       "    </tr>\n",
       "    <tr>\n",
       "      <th>96398</th>\n",
       "      <td>2009</td>\n",
       "      <td>9</td>\n",
       "      <td>06</td>\n",
       "      <td>C085</td>\n",
       "      <td>06085</td>\n",
       "      <td>2114</td>\n",
       "      <td>0.0</td>\n",
       "    </tr>\n",
       "    <tr>\n",
       "      <th>177880</th>\n",
       "      <td>2020</td>\n",
       "      <td>6</td>\n",
       "      <td>37</td>\n",
       "      <td>C085</td>\n",
       "      <td>37085</td>\n",
       "      <td>151</td>\n",
       "      <td>0.0</td>\n",
       "    </tr>\n",
       "    <tr>\n",
       "      <th>41779</th>\n",
       "      <td>2001</td>\n",
       "      <td>8</td>\n",
       "      <td>48</td>\n",
       "      <td>C039</td>\n",
       "      <td>48039</td>\n",
       "      <td>346</td>\n",
       "      <td>0.0</td>\n",
       "    </tr>\n",
       "    <tr>\n",
       "      <th>75727</th>\n",
       "      <td>2006</td>\n",
       "      <td>12</td>\n",
       "      <td>11</td>\n",
       "      <td>C001</td>\n",
       "      <td>11001</td>\n",
       "      <td>729</td>\n",
       "      <td>0.0</td>\n",
       "    </tr>\n",
       "    <tr>\n",
       "      <th>168511</th>\n",
       "      <td>2019</td>\n",
       "      <td>3</td>\n",
       "      <td>42</td>\n",
       "      <td>C011</td>\n",
       "      <td>42011</td>\n",
       "      <td>403</td>\n",
       "      <td>0.0</td>\n",
       "    </tr>\n",
       "    <tr>\n",
       "      <th>129354</th>\n",
       "      <td>2014</td>\n",
       "      <td>1</td>\n",
       "      <td>29</td>\n",
       "      <td>C047</td>\n",
       "      <td>29047</td>\n",
       "      <td>245</td>\n",
       "      <td>0.0</td>\n",
       "    </tr>\n",
       "    <tr>\n",
       "      <th>117194</th>\n",
       "      <td>2012</td>\n",
       "      <td>6</td>\n",
       "      <td>12</td>\n",
       "      <td>C015</td>\n",
       "      <td>12015</td>\n",
       "      <td>86</td>\n",
       "      <td>0.0</td>\n",
       "    </tr>\n",
       "    <tr>\n",
       "      <th>142281</th>\n",
       "      <td>2015</td>\n",
       "      <td>10</td>\n",
       "      <td>04</td>\n",
       "      <td>C999</td>\n",
       "      <td>04999</td>\n",
       "      <td>277</td>\n",
       "      <td>0.0</td>\n",
       "    </tr>\n",
       "    <tr>\n",
       "      <th>152665</th>\n",
       "      <td>2017</td>\n",
       "      <td>2</td>\n",
       "      <td>34</td>\n",
       "      <td>C027</td>\n",
       "      <td>34027</td>\n",
       "      <td>333</td>\n",
       "      <td>0.0</td>\n",
       "    </tr>\n",
       "    <tr>\n",
       "      <th>76317</th>\n",
       "      <td>2007</td>\n",
       "      <td>1</td>\n",
       "      <td>12</td>\n",
       "      <td>C061</td>\n",
       "      <td>12061</td>\n",
       "      <td>126</td>\n",
       "      <td>0.0</td>\n",
       "    </tr>\n",
       "    <tr>\n",
       "      <th>32937</th>\n",
       "      <td>2000</td>\n",
       "      <td>10</td>\n",
       "      <td>25</td>\n",
       "      <td>C017</td>\n",
       "      <td>25017</td>\n",
       "      <td>1616</td>\n",
       "      <td>0.0</td>\n",
       "    </tr>\n",
       "    <tr>\n",
       "      <th>37311</th>\n",
       "      <td>2001</td>\n",
       "      <td>4</td>\n",
       "      <td>08</td>\n",
       "      <td>C069</td>\n",
       "      <td>08069</td>\n",
       "      <td>274</td>\n",
       "      <td>0.0</td>\n",
       "    </tr>\n",
       "    <tr>\n",
       "      <th>60383</th>\n",
       "      <td>2004</td>\n",
       "      <td>9</td>\n",
       "      <td>19</td>\n",
       "      <td>C999</td>\n",
       "      <td>19999</td>\n",
       "      <td>1930</td>\n",
       "      <td>0.0</td>\n",
       "    </tr>\n",
       "    <tr>\n",
       "      <th>89772</th>\n",
       "      <td>2008</td>\n",
       "      <td>10</td>\n",
       "      <td>34</td>\n",
       "      <td>C999</td>\n",
       "      <td>34999</td>\n",
       "      <td>56</td>\n",
       "      <td>0.0</td>\n",
       "    </tr>\n",
       "    <tr>\n",
       "      <th>29420</th>\n",
       "      <td>1999</td>\n",
       "      <td>9</td>\n",
       "      <td>45</td>\n",
       "      <td>C999</td>\n",
       "      <td>45999</td>\n",
       "      <td>1675</td>\n",
       "      <td>0.0</td>\n",
       "    </tr>\n",
       "    <tr>\n",
       "      <th>90030</th>\n",
       "      <td>2008</td>\n",
       "      <td>10</td>\n",
       "      <td>54</td>\n",
       "      <td>C003</td>\n",
       "      <td>54003</td>\n",
       "      <td>0</td>\n",
       "      <td>0.0</td>\n",
       "    </tr>\n",
       "    <tr>\n",
       "      <th>166796</th>\n",
       "      <td>2019</td>\n",
       "      <td>1</td>\n",
       "      <td>01</td>\n",
       "      <td>C101</td>\n",
       "      <td>01101</td>\n",
       "      <td>264</td>\n",
       "      <td>0.0</td>\n",
       "    </tr>\n",
       "    <tr>\n",
       "      <th>163074</th>\n",
       "      <td>2018</td>\n",
       "      <td>7</td>\n",
       "      <td>06</td>\n",
       "      <td>C089</td>\n",
       "      <td>06089</td>\n",
       "      <td>201</td>\n",
       "      <td>0.0</td>\n",
       "    </tr>\n",
       "    <tr>\n",
       "      <th>118217</th>\n",
       "      <td>2012</td>\n",
       "      <td>7</td>\n",
       "      <td>42</td>\n",
       "      <td>C129</td>\n",
       "      <td>42129</td>\n",
       "      <td>290</td>\n",
       "      <td>0.0</td>\n",
       "    </tr>\n",
       "    <tr>\n",
       "      <th>121359</th>\n",
       "      <td>2012</td>\n",
       "      <td>12</td>\n",
       "      <td>42</td>\n",
       "      <td>C101</td>\n",
       "      <td>42101</td>\n",
       "      <td>1935</td>\n",
       "      <td>0.0</td>\n",
       "    </tr>\n",
       "    <tr>\n",
       "      <th>106742</th>\n",
       "      <td>2011</td>\n",
       "      <td>1</td>\n",
       "      <td>34</td>\n",
       "      <td>C015</td>\n",
       "      <td>34015</td>\n",
       "      <td>248</td>\n",
       "      <td>0.0</td>\n",
       "    </tr>\n",
       "    <tr>\n",
       "      <th>97163</th>\n",
       "      <td>2009</td>\n",
       "      <td>10</td>\n",
       "      <td>18</td>\n",
       "      <td>C127</td>\n",
       "      <td>18127</td>\n",
       "      <td>152</td>\n",
       "      <td>0.0</td>\n",
       "    </tr>\n",
       "  </tbody>\n",
       "</table>\n",
       "</div>"
      ],
      "text/plain": [
       "       year_code month_code state_fipcode county_fipcode fips_five  births  \\\n",
       "37281       2001         10            08           C031     08031     949   \n",
       "92223       2009          2            26           C163     26163    1929   \n",
       "163758      2018          8            12           C097     12097     427   \n",
       "96398       2009          9            06           C085     06085    2114   \n",
       "177880      2020          6            37           C085     37085     151   \n",
       "41779       2001          8            48           C039     48039     346   \n",
       "75727       2006         12            11           C001     11001     729   \n",
       "168511      2019          3            42           C011     42011     403   \n",
       "129354      2014          1            29           C047     29047     245   \n",
       "117194      2012          6            12           C015     12015      86   \n",
       "142281      2015         10            04           C999     04999     277   \n",
       "152665      2017          2            34           C027     34027     333   \n",
       "76317       2007          1            12           C061     12061     126   \n",
       "32937       2000         10            25           C017     25017    1616   \n",
       "37311       2001          4            08           C069     08069     274   \n",
       "60383       2004          9            19           C999     19999    1930   \n",
       "89772       2008         10            34           C999     34999      56   \n",
       "29420       1999          9            45           C999     45999    1675   \n",
       "90030       2008         10            54           C003     54003       0   \n",
       "166796      2019          1            01           C101     01101     264   \n",
       "163074      2018          7            06           C089     06089     201   \n",
       "118217      2012          7            42           C129     42129     290   \n",
       "121359      2012         12            42           C101     42101    1935   \n",
       "106742      2011          1            34           C015     34015     248   \n",
       "97163       2009         10            18           C127     18127     152   \n",
       "\n",
       "        count  \n",
       "37281     0.0  \n",
       "92223     0.0  \n",
       "163758    0.0  \n",
       "96398     0.0  \n",
       "177880    0.0  \n",
       "41779     0.0  \n",
       "75727     0.0  \n",
       "168511    0.0  \n",
       "129354    0.0  \n",
       "117194    0.0  \n",
       "142281    0.0  \n",
       "152665    0.0  \n",
       "76317     0.0  \n",
       "32937     0.0  \n",
       "37311     0.0  \n",
       "60383     0.0  \n",
       "89772     0.0  \n",
       "29420     0.0  \n",
       "90030     0.0  \n",
       "166796    0.0  \n",
       "163074    0.0  \n",
       "118217    0.0  \n",
       "121359    0.0  \n",
       "106742    0.0  \n",
       "97163     0.0  "
      ]
     },
     "execution_count": 233,
     "metadata": {},
     "output_type": "execute_result"
    }
   ],
   "source": [
    "merged_data_df.sample(25)"
   ]
  },
  {
   "cell_type": "code",
   "execution_count": 240,
   "id": "d91080cc-1f9d-4158-9df2-db310afa0566",
   "metadata": {
    "scrolled": true
   },
   "outputs": [
    {
     "data": {
      "text/html": [
       "<div>\n",
       "<style scoped>\n",
       "    .dataframe tbody tr th:only-of-type {\n",
       "        vertical-align: middle;\n",
       "    }\n",
       "\n",
       "    .dataframe tbody tr th {\n",
       "        vertical-align: top;\n",
       "    }\n",
       "\n",
       "    .dataframe thead th {\n",
       "        text-align: right;\n",
       "    }\n",
       "</style>\n",
       "<table border=\"1\" class=\"dataframe\">\n",
       "  <thead>\n",
       "    <tr style=\"text-align: right;\">\n",
       "      <th></th>\n",
       "      <th>year_code</th>\n",
       "      <th>month_code</th>\n",
       "      <th>state_fipcode</th>\n",
       "      <th>county_fipcode</th>\n",
       "      <th>fips_five</th>\n",
       "      <th>births</th>\n",
       "      <th>count</th>\n",
       "    </tr>\n",
       "  </thead>\n",
       "  <tbody>\n",
       "    <tr>\n",
       "      <th>130402</th>\n",
       "      <td>2014</td>\n",
       "      <td>3</td>\n",
       "      <td>12</td>\n",
       "      <td>C011</td>\n",
       "      <td>12011</td>\n",
       "      <td>1843</td>\n",
       "      <td>NaN</td>\n",
       "    </tr>\n",
       "  </tbody>\n",
       "</table>\n",
       "</div>"
      ],
      "text/plain": [
       "       year_code month_code state_fipcode county_fipcode fips_five  births  \\\n",
       "130402      2014          3            12           C011     12011    1843   \n",
       "\n",
       "        count  \n",
       "130402    NaN  "
      ]
     },
     "execution_count": 240,
     "metadata": {},
     "output_type": "execute_result"
    }
   ],
   "source": [
    "merged_data_df[(merged_data_df['year_code'] == \"2014\") & (merged_data_df['month_code'] == \"3\") & (merged_data_df['fips_five'] == \"12011\")]"
   ]
  }
 ],
 "metadata": {
  "kernelspec": {
   "display_name": "Python 3 (ipykernel)",
   "language": "python",
   "name": "python3"
  },
  "language_info": {
   "codemirror_mode": {
    "name": "ipython",
    "version": 3
   },
   "file_extension": ".py",
   "mimetype": "text/x-python",
   "name": "python",
   "nbconvert_exporter": "python",
   "pygments_lexer": "ipython3",
   "version": "3.13.1"
  }
 },
 "nbformat": 4,
 "nbformat_minor": 5
}
