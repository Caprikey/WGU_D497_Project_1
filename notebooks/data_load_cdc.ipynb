{
 "cells": [
  {
   "cell_type": "code",
   "execution_count": 1,
   "id": "3950df1f-f5ff-4a4e-9c64-1043c2a06756",
   "metadata": {},
   "outputs": [],
   "source": [
    "## Data Cleaning - CDC - Importing Clean Data Into DB\n",
    "### Version 3\n",
    "#### 1/13/25\n",
    "#### 00:10"
   ]
  },
  {
   "cell_type": "code",
   "execution_count": 2,
   "id": "6a84fd70-84f2-4571-a7d6-812da527b762",
   "metadata": {},
   "outputs": [],
   "source": [
    "# Importing Modules\n",
    "import sys\n",
    "import os\n",
    "\n",
    "# Add the root directory to sys.path\n",
    "sys.path.append(os.path.abspath(\"..\"))\n",
    "\n",
    "# Now you can use absolute imports\n",
    "from d497_helpers import folder_manager as fm, archive_module, checkpoint_helper as CheckPoint, database_helper as db_tool, config\n",
    "\n",
    "\n",
    "# Pandas\n",
    "import pandas as pd\n",
    "\n",
    "# Numpy\n",
    "import numpy as np\n",
    "\n",
    "\n",
    "# RegularExpression for string matching\n",
    "import re\n",
    "\n",
    "# GLOB \n",
    "import glob \n",
    "\n",
    "# Pathlib \n",
    "from pathlib import Path\n"
   ]
  },
  {
   "cell_type": "code",
   "execution_count": 3,
   "id": "3eb6b004-6c97-43f0-82e3-d0d3e44139bd",
   "metadata": {},
   "outputs": [],
   "source": [
    "global cdc_data_main_df\n",
    "global cdc_data_main_df_csv\n",
    "global cdc_data_main_df_pickle\n"
   ]
  },
  {
   "cell_type": "code",
   "execution_count": 4,
   "id": "27d240d6-687f-4fbd-88db-39f6aca314f9",
   "metadata": {},
   "outputs": [],
   "source": [
    "def get_main_dataframe():\n",
    "\n",
    "    global cdc_data_main_df\n",
    "    global cdc_data_main_df_csv\n",
    "    global cdc_data_main_df_pickle\n",
    "    \n",
    "    file_name_csv = \"cdc_data_main_months_postimp_dfs_combined_df.csv\"\n",
    "    \n",
    "    file_name_pickle = \"cdc_data_main_months_postimp_dfs_combined_df.pkl\"\n",
    "    \n",
    "    file_path_csv = config.global_processed_cdc_data_folder_path + \"/\" + file_name_csv\n",
    "    file_path_pickle = config.global_processed_cdc_data_folder_path + \"/\" + file_name_pickle\n",
    "    \n",
    "    import_main_df_csv = pd.read_csv(file_path_csv, sep=\",\")\n",
    "\n",
    "    import_main_df_pickle = pd.read_pickle(file_path_pickle)\n",
    "\n",
    "    cdc_data_main_df_csv = import_main_df_csv.copy()\n",
    "\n",
    "    cdc_data_main_df_pickle = import_main_df_pickle.copy()\n",
    "\n",
    "    del import_main_df_csv\n",
    "\n",
    "    del import_main_df_pickle"
   ]
  },
  {
   "cell_type": "code",
   "execution_count": 5,
   "id": "13c7356e-54d5-4a25-9040-8f32e48fa9a3",
   "metadata": {},
   "outputs": [],
   "source": [
    "dtypes = {\n",
    "        'year_code': str,\n",
    "        'month_code': str,\n",
    "        'state_code': str,\n",
    "        'county_code': str,\n",
    "        'fips': str,\n",
    "        'births':str\n",
    "    }"
   ]
  },
  {
   "cell_type": "code",
   "execution_count": 6,
   "id": "d6d35e24-07e0-433d-ad80-6b1842d51fc2",
   "metadata": {},
   "outputs": [],
   "source": [
    "# Initializer Commands\n",
    "\n",
    "# Initializes Database Engine and Session For SQL\n",
    "db_tool.initialize_engine()\n",
    "db_tool.initialize_session()\n",
    "\n",
    "get_main_dataframe()"
   ]
  },
  {
   "cell_type": "code",
   "execution_count": 7,
   "id": "0cef332b-1303-4b41-8568-cc10792aff6d",
   "metadata": {},
   "outputs": [
    {
     "name": "stdout",
     "output_type": "stream",
     "text": [
      "<class 'pandas.core.frame.DataFrame'>\n",
      "RangeIndex: 204528 entries, 0 to 204527\n",
      "Data columns (total 5 columns):\n",
      " #   Column       Non-Null Count   Dtype\n",
      "---  ------       --------------   -----\n",
      " 0   year_code    204528 non-null  int64\n",
      " 1   month_code   204528 non-null  int64\n",
      " 2   state_code   204528 non-null  int64\n",
      " 3   county_code  204528 non-null  int64\n",
      " 4   births       204528 non-null  int64\n",
      "dtypes: int64(5)\n",
      "memory usage: 7.8 MB\n"
     ]
    }
   ],
   "source": [
    "cdc_data_main_df_csv.info()"
   ]
  },
  {
   "cell_type": "code",
   "execution_count": 8,
   "id": "456d4f27-7fb4-4e4b-8ab8-d6d5eb24f062",
   "metadata": {},
   "outputs": [
    {
     "name": "stdout",
     "output_type": "stream",
     "text": [
      "<class 'pandas.core.frame.DataFrame'>\n",
      "Index: 204528 entries, 0 to 159834\n",
      "Data columns (total 5 columns):\n",
      " #   Column       Non-Null Count   Dtype \n",
      "---  ------       --------------   ----- \n",
      " 0   year_code    204528 non-null  object\n",
      " 1   month_code   204528 non-null  object\n",
      " 2   state_code   204528 non-null  object\n",
      " 3   county_code  204528 non-null  object\n",
      " 4   births       204528 non-null  int64 \n",
      "dtypes: int64(1), object(4)\n",
      "memory usage: 9.4+ MB\n"
     ]
    }
   ],
   "source": [
    "cdc_data_main_df_pickle.info()"
   ]
  },
  {
   "cell_type": "code",
   "execution_count": 9,
   "id": "d67813c4-e689-436a-bc35-e504119aed60",
   "metadata": {},
   "outputs": [],
   "source": [
    "cdc_data_main_df = cdc_data_main_df_pickle.copy()"
   ]
  },
  {
   "cell_type": "code",
   "execution_count": 10,
   "id": "8bd21b99-87b7-478e-bcd3-1819b2bfc443",
   "metadata": {},
   "outputs": [],
   "source": [
    "del cdc_data_main_df_csv\n",
    "del cdc_data_main_df_pickle"
   ]
  },
  {
   "cell_type": "code",
   "execution_count": 11,
   "id": "5a77733d-a46d-43b8-9ba1-902319a89a28",
   "metadata": {},
   "outputs": [
    {
     "name": "stdout",
     "output_type": "stream",
     "text": [
      "Files archived successfully.\n",
      "Deleted: D:\\WGU\\D497\\Project_1\\data\\processed_data\\cdc_data\\cdc_data_main_months_postimp_dfs_combined_df.csv\n",
      "Deleted: D:\\WGU\\D497\\Project_1\\data\\processed_data\\cdc_data\\cdc_data_main_months_postimp_dfs_combined_df.pkl\n",
      "Deleted: D:\\WGU\\D497\\Project_1\\data\\processed_data\\cdc_data\\cdc_data_main_months_postimp_dfs_corrected_df.csv\n",
      "Deleted: D:\\WGU\\D497\\Project_1\\data\\processed_data\\cdc_data\\cdc_data_main_months_postimp_dfs_corrected_df.pkl\n",
      "WGU/D497/Project_1/data/processed_data/cdc_data/cdc_data_main_months_postimp_dfs_combined_df.csv\n",
      "\tModified:\t2025-01-12 21:54:20\n",
      "\tSystem:\t\t0(0 = Windows, 3 = Unix)\n",
      "\tZIP version:\t20\n",
      "\tCompressed:\t4355238 bytes\n",
      "\tUncompressed:\t4355238 bytes\n",
      "WGU/D497/Project_1/data/processed_data/cdc_data/cdc_data_main_months_postimp_dfs_combined_df.pkl\n",
      "\tModified:\t2025-01-12 21:54:20\n",
      "\tSystem:\t\t0(0 = Windows, 3 = Unix)\n",
      "\tZIP version:\t20\n",
      "\tCompressed:\t6154118 bytes\n",
      "\tUncompressed:\t6154118 bytes\n",
      "WGU/D497/Project_1/data/processed_data/cdc_data/cdc_data_main_months_postimp_dfs_corrected_df.csv\n",
      "\tModified:\t2025-01-12 21:52:26\n",
      "\tSystem:\t\t0(0 = Windows, 3 = Unix)\n",
      "\tZIP version:\t20\n",
      "\tCompressed:\t4355238 bytes\n",
      "\tUncompressed:\t4355238 bytes\n",
      "WGU/D497/Project_1/data/processed_data/cdc_data/cdc_data_main_months_postimp_dfs_corrected_df.pkl\n",
      "\tModified:\t2025-01-12 21:52:26\n",
      "\tSystem:\t\t0(0 = Windows, 3 = Unix)\n",
      "\tZIP version:\t20\n",
      "\tCompressed:\t6154118 bytes\n",
      "\tUncompressed:\t6154118 bytes\n"
     ]
    }
   ],
   "source": [
    "set_search_pattern = \"cdc_data_main_months_postimp\"\n",
    "set_search_folder = \"processed_cdc_data\"\n",
    "set_save_folder = \"archived_cdc_data\"\n",
    "set_save_file = \"CDC_Data_Main_Months_Postimp_dfs_Combined_Archive\"\n",
    "filter_extension = False\n",
    "filter_by_file_extension = None\n",
    "archive_module.create_archive(set_search_pattern, set_search_folder, set_save_folder, set_save_file, filter_extension, filter_by_file_extension, delete=True)"
   ]
  },
  {
   "cell_type": "code",
   "execution_count": 12,
   "id": "5130cd58-1eb4-49dc-916f-60f7ab3e7588",
   "metadata": {},
   "outputs": [
    {
     "data": {
      "text/html": [
       "<div>\n",
       "<style scoped>\n",
       "    .dataframe tbody tr th:only-of-type {\n",
       "        vertical-align: middle;\n",
       "    }\n",
       "\n",
       "    .dataframe tbody tr th {\n",
       "        vertical-align: top;\n",
       "    }\n",
       "\n",
       "    .dataframe thead th {\n",
       "        text-align: right;\n",
       "    }\n",
       "</style>\n",
       "<table border=\"1\" class=\"dataframe\">\n",
       "  <thead>\n",
       "    <tr style=\"text-align: right;\">\n",
       "      <th></th>\n",
       "      <th>year_code</th>\n",
       "      <th>month_code</th>\n",
       "      <th>state_code</th>\n",
       "      <th>county_code</th>\n",
       "      <th>births</th>\n",
       "    </tr>\n",
       "  </thead>\n",
       "  <tbody>\n",
       "    <tr>\n",
       "      <th>0</th>\n",
       "      <td>1995</td>\n",
       "      <td>1</td>\n",
       "      <td>01</td>\n",
       "      <td>01015</td>\n",
       "      <td>127</td>\n",
       "    </tr>\n",
       "    <tr>\n",
       "      <th>1</th>\n",
       "      <td>1995</td>\n",
       "      <td>2</td>\n",
       "      <td>01</td>\n",
       "      <td>01015</td>\n",
       "      <td>127</td>\n",
       "    </tr>\n",
       "    <tr>\n",
       "      <th>2</th>\n",
       "      <td>1995</td>\n",
       "      <td>3</td>\n",
       "      <td>01</td>\n",
       "      <td>01015</td>\n",
       "      <td>127</td>\n",
       "    </tr>\n",
       "    <tr>\n",
       "      <th>3</th>\n",
       "      <td>1995</td>\n",
       "      <td>4</td>\n",
       "      <td>01</td>\n",
       "      <td>01015</td>\n",
       "      <td>127</td>\n",
       "    </tr>\n",
       "    <tr>\n",
       "      <th>4</th>\n",
       "      <td>1995</td>\n",
       "      <td>5</td>\n",
       "      <td>01</td>\n",
       "      <td>01015</td>\n",
       "      <td>127</td>\n",
       "    </tr>\n",
       "  </tbody>\n",
       "</table>\n",
       "</div>"
      ],
      "text/plain": [
       "  year_code month_code state_code county_code  births\n",
       "0      1995          1         01       01015     127\n",
       "1      1995          2         01       01015     127\n",
       "2      1995          3         01       01015     127\n",
       "3      1995          4         01       01015     127\n",
       "4      1995          5         01       01015     127"
      ]
     },
     "execution_count": 12,
     "metadata": {},
     "output_type": "execute_result"
    }
   ],
   "source": [
    "cdc_data_main_df.head()"
   ]
  },
  {
   "cell_type": "code",
   "execution_count": 13,
   "id": "73b4d455-3a20-493f-83ba-5e7da4d4ae9c",
   "metadata": {},
   "outputs": [
    {
     "name": "stdout",
     "output_type": "stream",
     "text": [
      "<class 'pandas.core.frame.DataFrame'>\n",
      "Index: 204528 entries, 0 to 159834\n",
      "Data columns (total 5 columns):\n",
      " #   Column       Non-Null Count   Dtype \n",
      "---  ------       --------------   ----- \n",
      " 0   year_code    204528 non-null  object\n",
      " 1   month_code   204528 non-null  object\n",
      " 2   state_code   204528 non-null  object\n",
      " 3   county_code  204528 non-null  object\n",
      " 4   births       204528 non-null  int64 \n",
      "dtypes: int64(1), object(4)\n",
      "memory usage: 9.4+ MB\n"
     ]
    }
   ],
   "source": [
    "cdc_data_main_df.info()"
   ]
  },
  {
   "cell_type": "code",
   "execution_count": 14,
   "id": "506af840-207d-46ab-b19f-c5cac6a62bf1",
   "metadata": {},
   "outputs": [
    {
     "name": "stdout",
     "output_type": "stream",
     "text": [
      "2025-01-13 00:09:39,731 INFO sqlalchemy.engine.Engine BEGIN (implicit)\n",
      "2025-01-13 00:09:39,752 INFO sqlalchemy.engine.Engine PRAGMA main.table_info(\"cdc_data\")\n",
      "2025-01-13 00:09:39,754 INFO sqlalchemy.engine.Engine [raw sql] ()\n",
      "2025-01-13 00:09:39,756 INFO sqlalchemy.engine.Engine PRAGMA temp.table_info(\"cdc_data\")\n",
      "2025-01-13 00:09:39,757 INFO sqlalchemy.engine.Engine [raw sql] ()\n",
      "2025-01-13 00:09:39,760 INFO sqlalchemy.engine.Engine \n",
      "CREATE TABLE cdc_data (\n",
      "\tyear_code TEXT, \n",
      "\tmonth_code TEXT, \n",
      "\tstate_code TEXT, \n",
      "\tcounty_code TEXT, \n",
      "\tbirths BIGINT\n",
      ")\n",
      "\n",
      "\n",
      "2025-01-13 00:09:39,761 INFO sqlalchemy.engine.Engine [no key 0.00131s] ()\n",
      "2025-01-13 00:09:40,764 INFO sqlalchemy.engine.Engine INSERT INTO cdc_data (year_code, month_code, state_code, county_code, births) VALUES (?, ?, ?, ?, ?)\n",
      "2025-01-13 00:09:40,765 INFO sqlalchemy.engine.Engine [generated in 0.70293s] [('1995', 1, '01', '01015', 127), ('1995', 2, '01', '01015', 127), ('1995', 3, '01', '01015', 127), ('1995', 4, '01', '01015', 127), ('1995', 5, '01', '01015', 127), ('1995', 6, '01', '01015', 127), ('1995', 7, '01', '01015', 127), ('1995', 8, '01', '01015', 127)  ... displaying 10 of 204528 total bound parameter sets ...  ('2023', '12', '55', '55999', 1573), ('2023', '12', '56', '56999', 472)]\n",
      "2025-01-13 00:09:41,069 INFO sqlalchemy.engine.Engine COMMIT\n"
     ]
    }
   ],
   "source": [
    "db_tool.export_to_sql(cdc_data_main_df, \"cdc_data\")"
   ]
  },
  {
   "cell_type": "code",
   "execution_count": 15,
   "id": "f5c67b3f-96ef-41f9-899c-7b42220f95f3",
   "metadata": {},
   "outputs": [],
   "source": [
    "test_sql = \"SELECT * FROM cdc_data\""
   ]
  },
  {
   "cell_type": "code",
   "execution_count": 16,
   "id": "a583144c-c0d4-448c-aa11-57918039c21a",
   "metadata": {},
   "outputs": [],
   "source": [
    "confirm_db_load_df = pd.DataFrame()"
   ]
  },
  {
   "cell_type": "code",
   "execution_count": 17,
   "id": "1d75af90-6f52-4ab9-8047-10da566c1b6e",
   "metadata": {},
   "outputs": [
    {
     "name": "stdout",
     "output_type": "stream",
     "text": [
      "2025-01-13 00:09:41,111 INFO sqlalchemy.engine.Engine BEGIN (implicit)\n",
      "2025-01-13 00:09:41,113 INFO sqlalchemy.engine.Engine PRAGMA main.table_info(\"SELECT * FROM cdc_data\")\n",
      "2025-01-13 00:09:41,114 INFO sqlalchemy.engine.Engine [raw sql] ()\n",
      "2025-01-13 00:09:41,116 INFO sqlalchemy.engine.Engine PRAGMA temp.table_info(\"SELECT * FROM cdc_data\")\n",
      "2025-01-13 00:09:41,117 INFO sqlalchemy.engine.Engine [raw sql] ()\n",
      "2025-01-13 00:09:41,118 INFO sqlalchemy.engine.Engine SELECT * FROM cdc_data\n",
      "2025-01-13 00:09:41,118 INFO sqlalchemy.engine.Engine [raw sql] ()\n",
      "2025-01-13 00:09:41,717 INFO sqlalchemy.engine.Engine COMMIT\n"
     ]
    }
   ],
   "source": [
    "confirm_db_load_df = db_tool.export_df_from_sql(test_sql, confirm_db_load_df)"
   ]
  },
  {
   "cell_type": "code",
   "execution_count": 18,
   "id": "c474528c-cdfc-4ea8-b0c8-07a2e5369aca",
   "metadata": {},
   "outputs": [
    {
     "data": {
      "text/html": [
       "<div>\n",
       "<style scoped>\n",
       "    .dataframe tbody tr th:only-of-type {\n",
       "        vertical-align: middle;\n",
       "    }\n",
       "\n",
       "    .dataframe tbody tr th {\n",
       "        vertical-align: top;\n",
       "    }\n",
       "\n",
       "    .dataframe thead th {\n",
       "        text-align: right;\n",
       "    }\n",
       "</style>\n",
       "<table border=\"1\" class=\"dataframe\">\n",
       "  <thead>\n",
       "    <tr style=\"text-align: right;\">\n",
       "      <th></th>\n",
       "      <th>year_code</th>\n",
       "      <th>month_code</th>\n",
       "      <th>state_code</th>\n",
       "      <th>county_code</th>\n",
       "      <th>births</th>\n",
       "    </tr>\n",
       "  </thead>\n",
       "  <tbody>\n",
       "    <tr>\n",
       "      <th>0</th>\n",
       "      <td>1995</td>\n",
       "      <td>1</td>\n",
       "      <td>01</td>\n",
       "      <td>01015</td>\n",
       "      <td>127</td>\n",
       "    </tr>\n",
       "    <tr>\n",
       "      <th>1</th>\n",
       "      <td>1995</td>\n",
       "      <td>2</td>\n",
       "      <td>01</td>\n",
       "      <td>01015</td>\n",
       "      <td>127</td>\n",
       "    </tr>\n",
       "    <tr>\n",
       "      <th>2</th>\n",
       "      <td>1995</td>\n",
       "      <td>3</td>\n",
       "      <td>01</td>\n",
       "      <td>01015</td>\n",
       "      <td>127</td>\n",
       "    </tr>\n",
       "    <tr>\n",
       "      <th>3</th>\n",
       "      <td>1995</td>\n",
       "      <td>4</td>\n",
       "      <td>01</td>\n",
       "      <td>01015</td>\n",
       "      <td>127</td>\n",
       "    </tr>\n",
       "    <tr>\n",
       "      <th>4</th>\n",
       "      <td>1995</td>\n",
       "      <td>5</td>\n",
       "      <td>01</td>\n",
       "      <td>01015</td>\n",
       "      <td>127</td>\n",
       "    </tr>\n",
       "  </tbody>\n",
       "</table>\n",
       "</div>"
      ],
      "text/plain": [
       "  year_code month_code state_code county_code  births\n",
       "0      1995          1         01       01015     127\n",
       "1      1995          2         01       01015     127\n",
       "2      1995          3         01       01015     127\n",
       "3      1995          4         01       01015     127\n",
       "4      1995          5         01       01015     127"
      ]
     },
     "execution_count": 18,
     "metadata": {},
     "output_type": "execute_result"
    }
   ],
   "source": [
    "confirm_db_load_df.head()"
   ]
  },
  {
   "cell_type": "code",
   "execution_count": 19,
   "id": "7f57c9eb-76ce-46d4-8e17-04ba838c6e16",
   "metadata": {},
   "outputs": [
    {
     "name": "stdout",
     "output_type": "stream",
     "text": [
      "<class 'pandas.core.frame.DataFrame'>\n",
      "RangeIndex: 204528 entries, 0 to 204527\n",
      "Data columns (total 5 columns):\n",
      " #   Column       Non-Null Count   Dtype \n",
      "---  ------       --------------   ----- \n",
      " 0   year_code    204528 non-null  object\n",
      " 1   month_code   204528 non-null  object\n",
      " 2   state_code   204528 non-null  object\n",
      " 3   county_code  204528 non-null  object\n",
      " 4   births       204528 non-null  int64 \n",
      "dtypes: int64(1), object(4)\n",
      "memory usage: 7.8+ MB\n"
     ]
    }
   ],
   "source": [
    "confirm_db_load_df.info()"
   ]
  },
  {
   "cell_type": "code",
   "execution_count": 20,
   "id": "6d8ca6e0-d15c-484d-996f-4457dbc809b6",
   "metadata": {},
   "outputs": [],
   "source": [
    "cleaned_cdc_data_main_df = confirm_db_load_df.copy()"
   ]
  },
  {
   "cell_type": "code",
   "execution_count": 21,
   "id": "792dece6-71d2-47ea-9a6d-e8a7d79b09c7",
   "metadata": {},
   "outputs": [],
   "source": [
    "#### #### #### #### #### #### #### #### #### #### #### #### #### #### #### #### #### #### #### #### #### #### #### #### #### #### #### #### #### #### #### #### \n",
    "#### #### #### #### #### #### #### #### #### ####                                                   #### #### #### #### #### #### #### #### #### #### #### #### \n",
    "#### #### #### #### #### #### #### #### #### ####                   CHECK POINT                     #### #### #### #### #### #### #### #### #### #### #### #### \n",
    "#### #### #### #### #### #### #### #### #### ####                                                   #### #### #### #### #### #### #### #### #### #### #### #### \n",
    "#### #### #### #### #### #### #### #### #### #### #### #### #### #### #### #### #### #### #### #### #### #### #### #### #### #### #### #### #### #### #### #### \n",
    "\n",
    "\n",
    "CheckPoint.create_checkpoint(\"cleaned_cdc_data\", \"cdc_data_main_df\", cleaned_cdc_data_main_df)\n",
    "\n",
    "\n",
    "#### #### #### #### #### #### #### #### #### #### #### #### #### #### #### #### #### #### #### #### #### #### #### #### #### #### #### #### #### #### #### #### \n",
    "#### #### #### #### #### #### #### #### #### ####                                                   #### #### #### #### #### #### #### #### #### #### #### #### \n",
    "#### #### #### #### #### #### #### #### #### ####                   CHECK POINT                     #### #### #### #### #### #### #### #### #### #### #### #### \n",
    "#### #### #### #### #### #### #### #### #### ####                                                   #### #### #### #### #### #### #### #### #### #### #### #### \n",
    "#### #### #### #### #### #### #### #### #### #### #### #### #### #### #### #### #### #### #### #### #### #### #### #### #### #### #### #### #### #### #### #### "
   ]
  },
  {
   "cell_type": "code",
   "execution_count": 22,
   "id": "45ef5057-b77a-4928-9a85-eb17833bf801",
   "metadata": {},
   "outputs": [],
   "source": [
    "del confirm_db_load_df\n",
    "del cdc_data_main_df\n",
    "del cleaned_cdc_data_main_df"
   ]
  }
 ],
 "metadata": {
  "kernelspec": {
   "display_name": "Python 3 (ipykernel)",
   "language": "python",
   "name": "python3"
  },
  "language_info": {
   "codemirror_mode": {
    "name": "ipython",
    "version": 3
   },
   "file_extension": ".py",
   "mimetype": "text/x-python",
   "name": "python",
   "nbconvert_exporter": "python",
   "pygments_lexer": "ipython3",
   "version": "3.13.1"
  }
 },
 "nbformat": 4,
 "nbformat_minor": 5
}
