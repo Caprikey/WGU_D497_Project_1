{
 "cells": [
  {
   "cell_type": "code",
   "execution_count": 1,
   "id": "756e7e05-c92e-4226-864e-2424aea99c5b",
   "metadata": {},
   "outputs": [],
   "source": [
    "## Data Transformation - FIPS \n",
    "## Version 7\n",
    "### 1/12/25\n",
    "### 21:25"
   ]
  },
  {
   "cell_type": "code",
   "execution_count": 2,
   "id": "e7d33df8-bd35-4034-b243-b1631c2b25a2",
   "metadata": {},
   "outputs": [],
   "source": [
    "import sys\n",
    "import os\n",
    "\n",
    "# Add the root directory to sys.path\n",
    "sys.path.append(os.path.abspath(\"..\"))\n",
    "\n",
    "# Now you can use absolute imports\n",
    "from d497_helpers import folder_manager as fm, archive_module, checkpoint_helper as CheckPoint, database_helper as db_tool, config\n",
    "\n",
    "# Pandas\n",
    "import pandas as pd\n",
    "\n",
    "# Numpy\n",
    "import numpy as np\n",
    "\n",
    "# RegularExpression for string matching\n",
    "import re\n",
    "\n",
    "# GLOB \n",
    "import glob \n",
    "\n",
    "# Pathlib \n",
    "from pathlib import Path\n",
    "\n"
   ]
  },
  {
   "cell_type": "code",
   "execution_count": 3,
   "id": "57112fa6-87c8-43f8-b77b-601d66613fb0",
   "metadata": {},
   "outputs": [],
   "source": [
    "fips_crossreference_df = pd.DataFrame()"
   ]
  },
  {
   "cell_type": "code",
   "execution_count": 4,
   "id": "4beabda9-b69e-4f48-9215-85f97ca424b1",
   "metadata": {},
   "outputs": [],
   "source": [
    "# Initializer Commands\n",
    "\n",
    "# Initializes Database Engine and Session For SQL\n",
    "db_tool.initialize_engine()\n",
    "db_tool.initialize_session()\n"
   ]
  },
  {
   "cell_type": "code",
   "execution_count": 5,
   "id": "cd95046d-1c79-4177-b20d-b04ae60e99b6",
   "metadata": {},
   "outputs": [],
   "source": [
    "sql_query = \"SELECT state_name AS state_lookup, state_fipcode AS fips FROM fips_data UNION ALL SELECT state_code AS state_lookup, state_fipcode AS fips FROM fips_data\""
   ]
  },
  {
   "cell_type": "code",
   "execution_count": 6,
   "id": "a0b88680-f04a-4459-85bf-2791b82d9cde",
   "metadata": {},
   "outputs": [
    {
     "name": "stdout",
     "output_type": "stream",
     "text": [
      "2025-01-20 17:52:45,884 INFO sqlalchemy.engine.Engine BEGIN (implicit)\n",
      "2025-01-20 17:52:45,886 INFO sqlalchemy.engine.Engine PRAGMA main.table_info(\"SELECT state_name AS state_lookup, state_fipcode AS fips FROM fips_data UNION ALL SELECT state_code AS state_lookup, state_fipcode AS fips FROM fips_data\")\n",
      "2025-01-20 17:52:45,887 INFO sqlalchemy.engine.Engine [raw sql] ()\n",
      "2025-01-20 17:52:45,889 INFO sqlalchemy.engine.Engine PRAGMA temp.table_info(\"SELECT state_name AS state_lookup, state_fipcode AS fips FROM fips_data UNION ALL SELECT state_code AS state_lookup, state_fipcode AS fips FROM fips_data\")\n",
      "2025-01-20 17:52:45,890 INFO sqlalchemy.engine.Engine [raw sql] ()\n",
      "2025-01-20 17:52:45,891 INFO sqlalchemy.engine.Engine SELECT state_name AS state_lookup, state_fipcode AS fips FROM fips_data UNION ALL SELECT state_code AS state_lookup, state_fipcode AS fips FROM fips_data\n",
      "2025-01-20 17:52:45,892 INFO sqlalchemy.engine.Engine [raw sql] ()\n",
      "2025-01-20 17:52:46,021 INFO sqlalchemy.engine.Engine COMMIT\n"
     ]
    }
   ],
   "source": [
    "fips_crossreference_df = db_tool.export_df_from_sql(sql_query, fips_crossreference_df)"
   ]
  },
  {
   "cell_type": "code",
   "execution_count": 7,
   "id": "8f6aa183-2188-46d9-9feb-cf78182298be",
   "metadata": {},
   "outputs": [
    {
     "data": {
      "text/html": [
       "<div>\n",
       "<style scoped>\n",
       "    .dataframe tbody tr th:only-of-type {\n",
       "        vertical-align: middle;\n",
       "    }\n",
       "\n",
       "    .dataframe tbody tr th {\n",
       "        vertical-align: top;\n",
       "    }\n",
       "\n",
       "    .dataframe thead th {\n",
       "        text-align: right;\n",
       "    }\n",
       "</style>\n",
       "<table border=\"1\" class=\"dataframe\">\n",
       "  <thead>\n",
       "    <tr style=\"text-align: right;\">\n",
       "      <th></th>\n",
       "      <th>state_lookup</th>\n",
       "      <th>fips</th>\n",
       "    </tr>\n",
       "  </thead>\n",
       "  <tbody>\n",
       "    <tr>\n",
       "      <th>0</th>\n",
       "      <td>ALABAMA</td>\n",
       "      <td>01</td>\n",
       "    </tr>\n",
       "    <tr>\n",
       "      <th>1</th>\n",
       "      <td>ALABAMA</td>\n",
       "      <td>01</td>\n",
       "    </tr>\n",
       "    <tr>\n",
       "      <th>2</th>\n",
       "      <td>ALABAMA</td>\n",
       "      <td>01</td>\n",
       "    </tr>\n",
       "    <tr>\n",
       "      <th>3</th>\n",
       "      <td>ALABAMA</td>\n",
       "      <td>01</td>\n",
       "    </tr>\n",
       "    <tr>\n",
       "      <th>4</th>\n",
       "      <td>ALABAMA</td>\n",
       "      <td>01</td>\n",
       "    </tr>\n",
       "    <tr>\n",
       "      <th>...</th>\n",
       "      <td>...</td>\n",
       "      <td>...</td>\n",
       "    </tr>\n",
       "    <tr>\n",
       "      <th>79577</th>\n",
       "      <td>WY</td>\n",
       "      <td>56</td>\n",
       "    </tr>\n",
       "    <tr>\n",
       "      <th>79578</th>\n",
       "      <td>WY</td>\n",
       "      <td>56</td>\n",
       "    </tr>\n",
       "    <tr>\n",
       "      <th>79579</th>\n",
       "      <td>WY</td>\n",
       "      <td>56</td>\n",
       "    </tr>\n",
       "    <tr>\n",
       "      <th>79580</th>\n",
       "      <td>WY</td>\n",
       "      <td>56</td>\n",
       "    </tr>\n",
       "    <tr>\n",
       "      <th>79581</th>\n",
       "      <td>WY</td>\n",
       "      <td>56</td>\n",
       "    </tr>\n",
       "  </tbody>\n",
       "</table>\n",
       "<p>79582 rows × 2 columns</p>\n",
       "</div>"
      ],
      "text/plain": [
       "      state_lookup fips\n",
       "0          ALABAMA   01\n",
       "1          ALABAMA   01\n",
       "2          ALABAMA   01\n",
       "3          ALABAMA   01\n",
       "4          ALABAMA   01\n",
       "...            ...  ...\n",
       "79577           WY   56\n",
       "79578           WY   56\n",
       "79579           WY   56\n",
       "79580           WY   56\n",
       "79581           WY   56\n",
       "\n",
       "[79582 rows x 2 columns]"
      ]
     },
     "execution_count": 7,
     "metadata": {},
     "output_type": "execute_result"
    }
   ],
   "source": [
    "fips_crossreference_df"
   ]
  },
  {
   "cell_type": "code",
   "execution_count": 8,
   "id": "833d231b-99e8-4944-bd39-0312b8ad8e94",
   "metadata": {},
   "outputs": [],
   "source": [
    "fips_crossreference_df.drop_duplicates(inplace=True)"
   ]
  },
  {
   "cell_type": "code",
   "execution_count": 9,
   "id": "bcc75493-cbb5-4d45-950e-4670b6a03fd1",
   "metadata": {},
   "outputs": [],
   "source": [
    "fips_crossreference_df.sort_values(by=\"fips\", inplace=True)"
   ]
  },
  {
   "cell_type": "code",
   "execution_count": 10,
   "id": "73c8db79-6822-4671-860f-be7ca80c2244",
   "metadata": {},
   "outputs": [
    {
     "data": {
      "text/html": [
       "<div>\n",
       "<style scoped>\n",
       "    .dataframe tbody tr th:only-of-type {\n",
       "        vertical-align: middle;\n",
       "    }\n",
       "\n",
       "    .dataframe tbody tr th {\n",
       "        vertical-align: top;\n",
       "    }\n",
       "\n",
       "    .dataframe thead th {\n",
       "        text-align: right;\n",
       "    }\n",
       "</style>\n",
       "<table border=\"1\" class=\"dataframe\">\n",
       "  <thead>\n",
       "    <tr style=\"text-align: right;\">\n",
       "      <th></th>\n",
       "      <th>index</th>\n",
       "      <th>state_lookup</th>\n",
       "      <th>fips</th>\n",
       "    </tr>\n",
       "  </thead>\n",
       "  <tbody>\n",
       "    <tr>\n",
       "      <th>0</th>\n",
       "      <td>0</td>\n",
       "      <td>ALABAMA</td>\n",
       "      <td>01</td>\n",
       "    </tr>\n",
       "    <tr>\n",
       "      <th>1</th>\n",
       "      <td>39791</td>\n",
       "      <td>AL</td>\n",
       "      <td>01</td>\n",
       "    </tr>\n",
       "    <tr>\n",
       "      <th>2</th>\n",
       "      <td>801</td>\n",
       "      <td>ALASKA</td>\n",
       "      <td>02</td>\n",
       "    </tr>\n",
       "    <tr>\n",
       "      <th>3</th>\n",
       "      <td>40592</td>\n",
       "      <td>AK</td>\n",
       "      <td>02</td>\n",
       "    </tr>\n",
       "    <tr>\n",
       "      <th>4</th>\n",
       "      <td>1333</td>\n",
       "      <td>ARIZONA</td>\n",
       "      <td>04</td>\n",
       "    </tr>\n",
       "    <tr>\n",
       "      <th>...</th>\n",
       "      <td>...</td>\n",
       "      <td>...</td>\n",
       "      <td>...</td>\n",
       "    </tr>\n",
       "    <tr>\n",
       "      <th>97</th>\n",
       "      <td>37505</td>\n",
       "      <td>WEST VIRGINIA</td>\n",
       "      <td>54</td>\n",
       "    </tr>\n",
       "    <tr>\n",
       "      <th>98</th>\n",
       "      <td>78419</td>\n",
       "      <td>WI</td>\n",
       "      <td>55</td>\n",
       "    </tr>\n",
       "    <tr>\n",
       "      <th>99</th>\n",
       "      <td>38628</td>\n",
       "      <td>WISCONSIN</td>\n",
       "      <td>55</td>\n",
       "    </tr>\n",
       "    <tr>\n",
       "      <th>100</th>\n",
       "      <td>39569</td>\n",
       "      <td>WYOMING</td>\n",
       "      <td>56</td>\n",
       "    </tr>\n",
       "    <tr>\n",
       "      <th>101</th>\n",
       "      <td>79360</td>\n",
       "      <td>WY</td>\n",
       "      <td>56</td>\n",
       "    </tr>\n",
       "  </tbody>\n",
       "</table>\n",
       "<p>102 rows × 3 columns</p>\n",
       "</div>"
      ],
      "text/plain": [
       "     index   state_lookup fips\n",
       "0        0        ALABAMA   01\n",
       "1    39791             AL   01\n",
       "2      801         ALASKA   02\n",
       "3    40592             AK   02\n",
       "4     1333        ARIZONA   04\n",
       "..     ...            ...  ...\n",
       "97   37505  WEST VIRGINIA   54\n",
       "98   78419             WI   55\n",
       "99   38628      WISCONSIN   55\n",
       "100  39569        WYOMING   56\n",
       "101  79360             WY   56\n",
       "\n",
       "[102 rows x 3 columns]"
      ]
     },
     "execution_count": 10,
     "metadata": {},
     "output_type": "execute_result"
    }
   ],
   "source": [
    "fips_crossreference_df.reset_index()"
   ]
  },
  {
   "cell_type": "code",
   "execution_count": 11,
   "id": "e2b23fc5-2f94-428b-a9e8-1bbef55bde44",
   "metadata": {},
   "outputs": [
    {
     "data": {
      "text/html": [
       "<div>\n",
       "<style scoped>\n",
       "    .dataframe tbody tr th:only-of-type {\n",
       "        vertical-align: middle;\n",
       "    }\n",
       "\n",
       "    .dataframe tbody tr th {\n",
       "        vertical-align: top;\n",
       "    }\n",
       "\n",
       "    .dataframe thead th {\n",
       "        text-align: right;\n",
       "    }\n",
       "</style>\n",
       "<table border=\"1\" class=\"dataframe\">\n",
       "  <thead>\n",
       "    <tr style=\"text-align: right;\">\n",
       "      <th></th>\n",
       "      <th>fips</th>\n",
       "    </tr>\n",
       "    <tr>\n",
       "      <th>state_lookup</th>\n",
       "      <th></th>\n",
       "    </tr>\n",
       "  </thead>\n",
       "  <tbody>\n",
       "    <tr>\n",
       "      <th>ALABAMA</th>\n",
       "      <td>01</td>\n",
       "    </tr>\n",
       "    <tr>\n",
       "      <th>AL</th>\n",
       "      <td>01</td>\n",
       "    </tr>\n",
       "    <tr>\n",
       "      <th>ALASKA</th>\n",
       "      <td>02</td>\n",
       "    </tr>\n",
       "    <tr>\n",
       "      <th>AK</th>\n",
       "      <td>02</td>\n",
       "    </tr>\n",
       "    <tr>\n",
       "      <th>ARIZONA</th>\n",
       "      <td>04</td>\n",
       "    </tr>\n",
       "    <tr>\n",
       "      <th>...</th>\n",
       "      <td>...</td>\n",
       "    </tr>\n",
       "    <tr>\n",
       "      <th>WEST VIRGINIA</th>\n",
       "      <td>54</td>\n",
       "    </tr>\n",
       "    <tr>\n",
       "      <th>WI</th>\n",
       "      <td>55</td>\n",
       "    </tr>\n",
       "    <tr>\n",
       "      <th>WISCONSIN</th>\n",
       "      <td>55</td>\n",
       "    </tr>\n",
       "    <tr>\n",
       "      <th>WYOMING</th>\n",
       "      <td>56</td>\n",
       "    </tr>\n",
       "    <tr>\n",
       "      <th>WY</th>\n",
       "      <td>56</td>\n",
       "    </tr>\n",
       "  </tbody>\n",
       "</table>\n",
       "<p>102 rows × 1 columns</p>\n",
       "</div>"
      ],
      "text/plain": [
       "              fips\n",
       "state_lookup      \n",
       "ALABAMA         01\n",
       "AL              01\n",
       "ALASKA          02\n",
       "AK              02\n",
       "ARIZONA         04\n",
       "...            ...\n",
       "WEST VIRGINIA   54\n",
       "WI              55\n",
       "WISCONSIN       55\n",
       "WYOMING         56\n",
       "WY              56\n",
       "\n",
       "[102 rows x 1 columns]"
      ]
     },
     "execution_count": 11,
     "metadata": {},
     "output_type": "execute_result"
    }
   ],
   "source": [
    "fips_crossreference_df.set_index('state_lookup')"
   ]
  },
  {
   "cell_type": "code",
   "execution_count": 12,
   "id": "4a079640-bd96-4d2d-bc72-ea7a21c5ba86",
   "metadata": {},
   "outputs": [
    {
     "name": "stdout",
     "output_type": "stream",
     "text": [
      "<class 'pandas.core.frame.DataFrame'>\n",
      "Index: 102 entries, 0 to 79360\n",
      "Data columns (total 2 columns):\n",
      " #   Column        Non-Null Count  Dtype \n",
      "---  ------        --------------  ----- \n",
      " 0   state_lookup  102 non-null    object\n",
      " 1   fips          102 non-null    object\n",
      "dtypes: object(2)\n",
      "memory usage: 2.4+ KB\n"
     ]
    }
   ],
   "source": [
    "fips_crossreference_df.info()"
   ]
  },
  {
   "cell_type": "code",
   "execution_count": 13,
   "id": "75d27f62-e0a1-4b14-b6e5-691908f58291",
   "metadata": {},
   "outputs": [
    {
     "name": "stdout",
     "output_type": "stream",
     "text": [
      "2025-01-20 17:52:46,106 INFO sqlalchemy.engine.Engine BEGIN (implicit)\n",
      "2025-01-20 17:52:46,109 INFO sqlalchemy.engine.Engine PRAGMA main.table_info(\"state_lookup\")\n",
      "2025-01-20 17:52:46,111 INFO sqlalchemy.engine.Engine [raw sql] ()\n",
      "2025-01-20 17:52:46,113 INFO sqlalchemy.engine.Engine PRAGMA temp.table_info(\"state_lookup\")\n",
      "2025-01-20 17:52:46,114 INFO sqlalchemy.engine.Engine [raw sql] ()\n",
      "2025-01-20 17:52:46,115 INFO sqlalchemy.engine.Engine \n",
      "CREATE TABLE state_lookup (\n",
      "\tstate_lookup TEXT, \n",
      "\tfips TEXT\n",
      ")\n",
      "\n",
      "\n",
      "2025-01-20 17:52:46,117 INFO sqlalchemy.engine.Engine [no key 0.00107s] ()\n",
      "2025-01-20 17:52:46,124 INFO sqlalchemy.engine.Engine INSERT INTO state_lookup (state_lookup, fips) VALUES (?, ?)\n",
      "2025-01-20 17:52:46,125 INFO sqlalchemy.engine.Engine [generated in 0.00132s] [('ALABAMA', '01'), ('AL', '01'), ('ALASKA', '02'), ('AK', '02'), ('ARIZONA', '04'), ('AZ', '04'), ('ARKANSAS', '05'), ('AR', '05')  ... displaying 10 of 102 total bound parameter sets ...  ('WYOMING', '56'), ('WY', '56')]\n",
      "2025-01-20 17:52:46,128 INFO sqlalchemy.engine.Engine COMMIT\n"
     ]
    }
   ],
   "source": [
    "db_tool.export_to_sql(fips_crossreference_df, \"state_lookup\")"
   ]
  },
  {
   "cell_type": "code",
   "execution_count": 14,
   "id": "86d84fc7-a781-475e-8541-e5477ecc040d",
   "metadata": {},
   "outputs": [],
   "source": [
    "#fips_crossreference_file_name_csv = \"state_lookup.csv\"\n",
    "#fips_crossreference_file_name_pickle = \"state_lookup.pkl\"\n",
    "\n",
    "#fips_crossreference_file_path_csv = config.processed_fips_data_folder_path + \"/\" + fips_crossreference_file_name_csv\n",
    "#fips_crossreference_file_path_pickle = config.processed_fips_data_folder_path + \"/\" + fips_crossreference_file_name_pickle\n",
    "\n",
    "#fips_crossreference_df.to_csv(fips_crossreference_file_path_csv, index=False)\n",
    "#fips_crossreference_df.to_pickle(fipes_crossreference_file_path_pickle)"
   ]
  },
  {
   "cell_type": "code",
   "execution_count": 15,
   "id": "6c54996c-ba05-4d05-91c2-75a0e6f79f0f",
   "metadata": {},
   "outputs": [],
   "source": [
    "CheckPoint.create_checkpoint(\"cleaned_fips_data\", \"state_lookup\", fips_crossreference_df)"
   ]
  },
  {
   "cell_type": "code",
   "execution_count": 16,
   "id": "797ab4e3-fcac-48d2-bef9-0e41f89fc323",
   "metadata": {},
   "outputs": [],
   "source": [
    "commit_test_sql_query = \"SELECT * FROM state_lookup\""
   ]
  },
  {
   "cell_type": "code",
   "execution_count": 17,
   "id": "e54b34d1-c98b-4f44-8d0d-27d06288780d",
   "metadata": {},
   "outputs": [],
   "source": [
    "commit_test_fips_crossreference_df = pd.DataFrame()"
   ]
  },
  {
   "cell_type": "code",
   "execution_count": 18,
   "id": "cce91490-20b8-4ce2-bba3-52a278b7b3cb",
   "metadata": {},
   "outputs": [
    {
     "name": "stdout",
     "output_type": "stream",
     "text": [
      "<class 'pandas.core.frame.DataFrame'>\n",
      "RangeIndex: 0 entries\n",
      "Empty DataFrame\n"
     ]
    }
   ],
   "source": [
    "commit_test_fips_crossreference_df.info()"
   ]
  },
  {
   "cell_type": "code",
   "execution_count": 19,
   "id": "1c8e255d-63bb-4456-b498-b1dc16610b77",
   "metadata": {},
   "outputs": [
    {
     "name": "stdout",
     "output_type": "stream",
     "text": [
      "2025-01-20 17:52:46,188 INFO sqlalchemy.engine.Engine BEGIN (implicit)\n",
      "2025-01-20 17:52:46,189 INFO sqlalchemy.engine.Engine PRAGMA main.table_info(\"SELECT * FROM state_lookup\")\n",
      "2025-01-20 17:52:46,190 INFO sqlalchemy.engine.Engine [raw sql] ()\n",
      "2025-01-20 17:52:46,191 INFO sqlalchemy.engine.Engine PRAGMA temp.table_info(\"SELECT * FROM state_lookup\")\n",
      "2025-01-20 17:52:46,192 INFO sqlalchemy.engine.Engine [raw sql] ()\n",
      "2025-01-20 17:52:46,193 INFO sqlalchemy.engine.Engine SELECT * FROM state_lookup\n",
      "2025-01-20 17:52:46,194 INFO sqlalchemy.engine.Engine [raw sql] ()\n",
      "2025-01-20 17:52:46,196 INFO sqlalchemy.engine.Engine COMMIT\n"
     ]
    }
   ],
   "source": [
    "commit_test_fips_crossreference_df = db_tool.export_df_from_sql(commit_test_sql_query, commit_test_fips_crossreference_df)"
   ]
  },
  {
   "cell_type": "code",
   "execution_count": 20,
   "id": "b44272de-ec5f-41a7-93a3-613ec1629cbf",
   "metadata": {},
   "outputs": [
    {
     "data": {
      "text/html": [
       "<div>\n",
       "<style scoped>\n",
       "    .dataframe tbody tr th:only-of-type {\n",
       "        vertical-align: middle;\n",
       "    }\n",
       "\n",
       "    .dataframe tbody tr th {\n",
       "        vertical-align: top;\n",
       "    }\n",
       "\n",
       "    .dataframe thead th {\n",
       "        text-align: right;\n",
       "    }\n",
       "</style>\n",
       "<table border=\"1\" class=\"dataframe\">\n",
       "  <thead>\n",
       "    <tr style=\"text-align: right;\">\n",
       "      <th></th>\n",
       "      <th>state_lookup</th>\n",
       "      <th>fips</th>\n",
       "    </tr>\n",
       "  </thead>\n",
       "  <tbody>\n",
       "    <tr>\n",
       "      <th>0</th>\n",
       "      <td>ALABAMA</td>\n",
       "      <td>01</td>\n",
       "    </tr>\n",
       "    <tr>\n",
       "      <th>1</th>\n",
       "      <td>AL</td>\n",
       "      <td>01</td>\n",
       "    </tr>\n",
       "    <tr>\n",
       "      <th>2</th>\n",
       "      <td>ALASKA</td>\n",
       "      <td>02</td>\n",
       "    </tr>\n",
       "    <tr>\n",
       "      <th>3</th>\n",
       "      <td>AK</td>\n",
       "      <td>02</td>\n",
       "    </tr>\n",
       "    <tr>\n",
       "      <th>4</th>\n",
       "      <td>ARIZONA</td>\n",
       "      <td>04</td>\n",
       "    </tr>\n",
       "    <tr>\n",
       "      <th>...</th>\n",
       "      <td>...</td>\n",
       "      <td>...</td>\n",
       "    </tr>\n",
       "    <tr>\n",
       "      <th>97</th>\n",
       "      <td>WEST VIRGINIA</td>\n",
       "      <td>54</td>\n",
       "    </tr>\n",
       "    <tr>\n",
       "      <th>98</th>\n",
       "      <td>WI</td>\n",
       "      <td>55</td>\n",
       "    </tr>\n",
       "    <tr>\n",
       "      <th>99</th>\n",
       "      <td>WISCONSIN</td>\n",
       "      <td>55</td>\n",
       "    </tr>\n",
       "    <tr>\n",
       "      <th>100</th>\n",
       "      <td>WYOMING</td>\n",
       "      <td>56</td>\n",
       "    </tr>\n",
       "    <tr>\n",
       "      <th>101</th>\n",
       "      <td>WY</td>\n",
       "      <td>56</td>\n",
       "    </tr>\n",
       "  </tbody>\n",
       "</table>\n",
       "<p>102 rows × 2 columns</p>\n",
       "</div>"
      ],
      "text/plain": [
       "      state_lookup fips\n",
       "0          ALABAMA   01\n",
       "1               AL   01\n",
       "2           ALASKA   02\n",
       "3               AK   02\n",
       "4          ARIZONA   04\n",
       "..             ...  ...\n",
       "97   WEST VIRGINIA   54\n",
       "98              WI   55\n",
       "99       WISCONSIN   55\n",
       "100        WYOMING   56\n",
       "101             WY   56\n",
       "\n",
       "[102 rows x 2 columns]"
      ]
     },
     "execution_count": 20,
     "metadata": {},
     "output_type": "execute_result"
    }
   ],
   "source": [
    "commit_test_fips_crossreference_df"
   ]
  },
  {
   "cell_type": "code",
   "execution_count": 21,
   "id": "d0ca73cb-2d7e-41e3-9323-dbc164880d95",
   "metadata": {},
   "outputs": [],
   "source": [
    "del commit_test_fips_crossreference_df"
   ]
  }
 ],
 "metadata": {
  "kernelspec": {
   "display_name": "Python 3 (ipykernel)",
   "language": "python",
   "name": "python3"
  },
  "language_info": {
   "codemirror_mode": {
    "name": "ipython",
    "version": 3
   },
   "file_extension": ".py",
   "mimetype": "text/x-python",
   "name": "python",
   "nbconvert_exporter": "python",
   "pygments_lexer": "ipython3",
   "version": "3.13.1"
  }
 },
 "nbformat": 4,
 "nbformat_minor": 5
}
