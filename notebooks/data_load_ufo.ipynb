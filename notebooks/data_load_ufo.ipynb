{
 "cells": [
  {
   "cell_type": "code",
   "execution_count": 1,
   "id": "95864dc9-47d8-403c-940d-f7c7f4955022",
   "metadata": {},
   "outputs": [],
   "source": [
    "# Data Load\n",
    "## UFO\n",
    "### Version 2\n",
    "#### 1/12/25\n",
    "#### 01:00"
   ]
  },
  {
   "cell_type": "code",
   "execution_count": 2,
   "id": "f020a26f-f406-4bba-aed3-a58d5d8658de",
   "metadata": {},
   "outputs": [],
   "source": [
    "# Importing Modules\n",
    "\n",
    "# Importing sys\n",
    "import sys\n",
    "\n",
    "# Importing os\n",
    "import os\n",
    "\n",
    "# Add the root directory to sys.path\n",
    "sys.path.append(os.path.abspath(\"..\"))\n",
    "\n",
    "# Now you can use absolute imports\n",
    "from d497_helpers import folder_manager as fm, archive_module, checkpoint_helper as CheckPoint, database_helper as db_tool, config\n",
    "\n",
    "\n",
    "# Pandas\n",
    "import pandas as pd\n",
    "\n",
    "# Numpy\n",
    "import numpy as np\n"
   ]
  },
  {
   "cell_type": "code",
   "execution_count": 3,
   "id": "3543a87c-4451-45b3-871f-026f57c6f3d4",
   "metadata": {},
   "outputs": [],
   "source": [
    "# Global variables\n",
    "ufo_data_main_df_pickle = pd.DataFrame()\n",
    "ufo_data_main_df_csv = pd.DataFrame()\n",
    "ufo_data_main_df = pd.DataFrame()"
   ]
  },
  {
   "cell_type": "code",
   "execution_count": 4,
   "id": "0ed9ff9a-8379-4f2a-afaf-6e19f550e42d",
   "metadata": {},
   "outputs": [],
   "source": [
    "# function imports the csv and pickle checkpoint files\n",
    "def get_main_dataframe():\n",
    "\n",
    "    global ufo_data_main_df_csv\n",
    "    global ufo_data_main_df_pickle\n",
    "    \n",
    "    file_name_csv = \"ufo_data_main_fips_complete.csv\"\n",
    "    file_name_pickle = \"ufo_data_main_fips_complete.pkl\"\n",
    "    \n",
    "    file_path_csv = config.global_processed_ufo_data_folder_path + \"/\" + file_name_csv\n",
    "    file_path_pickle = config.global_processed_ufo_data_folder_path + \"/\" + file_name_pickle\n",
    "    \n",
    "    import_main_df_csv = pd.read_csv(file_path_csv, sep=\",\")\n",
    "    import_main_df_pickle = pd.read_pickle(file_path_pickle)\n",
    "\n",
    "    ufo_data_main_df_csv = import_main_df_csv.copy()\n",
    "    ufo_data_main_df_pickle = import_main_df_pickle.copy()\n",
    "\n",
    "    del import_main_df_csv\n",
    "    del import_main_df_pickle"
   ]
  },
  {
   "cell_type": "code",
   "execution_count": 5,
   "id": "c8a51755-f9bf-4519-ade6-f5d31dd87d99",
   "metadata": {},
   "outputs": [
    {
     "name": "stderr",
     "output_type": "stream",
     "text": [
      "C:\\Users\\Caprikey\\AppData\\Local\\Temp\\ipykernel_41584\\2798707213.py:13: DtypeWarning: Columns (5,7) have mixed types. Specify dtype option on import or set low_memory=False.\n",
      "  import_main_df_csv = pd.read_csv(file_path_csv, sep=\",\")\n"
     ]
    }
   ],
   "source": [
    "# Initializer Commands\n",
    "\n",
    "\n",
    "# Initializes Database Engine and Session For SQL\n",
    "db_tool.initialize_engine()\n",
    "db_tool.initialize_session()\n",
    "\n",
    "# Initializes The Folders for This Notebook\n",
    "get_main_dataframe()\n"
   ]
  },
  {
   "cell_type": "code",
   "execution_count": 6,
   "id": "d7b945d8-31ff-466b-a81c-72e72a06aeb2",
   "metadata": {},
   "outputs": [
    {
     "name": "stdout",
     "output_type": "stream",
     "text": [
      "<class 'pandas.core.frame.DataFrame'>\n",
      "RangeIndex: 128365 entries, 0 to 128364\n",
      "Data columns (total 8 columns):\n",
      " #   Column          Non-Null Count   Dtype \n",
      "---  ------          --------------   ----- \n",
      " 0   report_id       128365 non-null  int64 \n",
      " 1   year_code       128365 non-null  int64 \n",
      " 2   month_code      128365 non-null  int64 \n",
      " 3   state_fipcode   128365 non-null  int64 \n",
      " 4   county_fipcode  128365 non-null  object\n",
      " 5   city_fipcode    128365 non-null  object\n",
      " 6   fips_five       128365 non-null  int64 \n",
      " 7   fips_nine       128365 non-null  object\n",
      "dtypes: int64(5), object(3)\n",
      "memory usage: 7.8+ MB\n"
     ]
    }
   ],
   "source": [
    "# Get csv info\n",
    "ufo_data_main_df_csv.info()\n"
   ]
  },
  {
   "cell_type": "code",
   "execution_count": 7,
   "id": "0eeaf592-4fd7-4cce-b99a-6fe33788a4f4",
   "metadata": {},
   "outputs": [
    {
     "name": "stdout",
     "output_type": "stream",
     "text": [
      "<class 'pandas.core.frame.DataFrame'>\n",
      "Index: 128365 entries, 0 to 128364\n",
      "Data columns (total 8 columns):\n",
      " #   Column          Non-Null Count   Dtype \n",
      "---  ------          --------------   ----- \n",
      " 0   report_id       128365 non-null  object\n",
      " 1   year_code       128365 non-null  int32 \n",
      " 2   month_code      128365 non-null  int32 \n",
      " 3   state_fipcode   128365 non-null  object\n",
      " 4   county_fipcode  128365 non-null  object\n",
      " 5   city_fipcode    128365 non-null  object\n",
      " 6   fips_five       128365 non-null  object\n",
      " 7   fips_nine       128365 non-null  object\n",
      "dtypes: int32(2), object(6)\n",
      "memory usage: 7.8+ MB\n"
     ]
    }
   ],
   "source": [
    "# Get pickle info\n",
    "ufo_data_main_df_pickle.info()"
   ]
  },
  {
   "cell_type": "code",
   "execution_count": 8,
   "id": "407f3806-e6f5-4a44-af9c-5e4a9c41f522",
   "metadata": {},
   "outputs": [],
   "source": [
    "# Keeping pickle saving to new dataframe\n",
    "ufo_data_main_df = ufo_data_main_df_pickle.copy()"
   ]
  },
  {
   "cell_type": "code",
   "execution_count": 9,
   "id": "abd6dfbf-9a7e-4224-abfc-0a8cfb2a6b48",
   "metadata": {},
   "outputs": [],
   "source": [
    "# Cleanup\n",
    "del ufo_data_main_df_csv\n",
    "del ufo_data_main_df_pickle"
   ]
  },
  {
   "cell_type": "code",
   "execution_count": 10,
   "id": "ca9c12bd-60f9-4ae3-8570-b1e67f40b5a6",
   "metadata": {},
   "outputs": [
    {
     "name": "stdout",
     "output_type": "stream",
     "text": [
      "<class 'pandas.core.frame.DataFrame'>\n",
      "Index: 128365 entries, 0 to 128364\n",
      "Data columns (total 8 columns):\n",
      " #   Column          Non-Null Count   Dtype \n",
      "---  ------          --------------   ----- \n",
      " 0   report_id       128365 non-null  object\n",
      " 1   year_code       128365 non-null  int32 \n",
      " 2   month_code      128365 non-null  int32 \n",
      " 3   state_fipcode   128365 non-null  object\n",
      " 4   county_fipcode  128365 non-null  object\n",
      " 5   city_fipcode    128365 non-null  object\n",
      " 6   fips_five       128365 non-null  object\n",
      " 7   fips_nine       128365 non-null  object\n",
      "dtypes: int32(2), object(6)\n",
      "memory usage: 7.8+ MB\n"
     ]
    }
   ],
   "source": [
    "# Get info\n",
    "ufo_data_main_df.info()"
   ]
  },
  {
   "cell_type": "code",
   "execution_count": 11,
   "id": "0ebc6193-e647-4072-bf17-954e5d5e0aaf",
   "metadata": {},
   "outputs": [
    {
     "data": {
      "text/html": [
       "<div>\n",
       "<style scoped>\n",
       "    .dataframe tbody tr th:only-of-type {\n",
       "        vertical-align: middle;\n",
       "    }\n",
       "\n",
       "    .dataframe tbody tr th {\n",
       "        vertical-align: top;\n",
       "    }\n",
       "\n",
       "    .dataframe thead th {\n",
       "        text-align: right;\n",
       "    }\n",
       "</style>\n",
       "<table border=\"1\" class=\"dataframe\">\n",
       "  <thead>\n",
       "    <tr style=\"text-align: right;\">\n",
       "      <th></th>\n",
       "      <th>report_id</th>\n",
       "      <th>year_code</th>\n",
       "      <th>month_code</th>\n",
       "      <th>state_fipcode</th>\n",
       "      <th>county_fipcode</th>\n",
       "      <th>city_fipcode</th>\n",
       "      <th>fips_five</th>\n",
       "      <th>fips_nine</th>\n",
       "    </tr>\n",
       "  </thead>\n",
       "  <tbody>\n",
       "    <tr>\n",
       "      <th>43488</th>\n",
       "      <td>184421</td>\n",
       "      <td>2024</td>\n",
       "      <td>11</td>\n",
       "      <td>08</td>\n",
       "      <td>C117</td>\n",
       "      <td>0930</td>\n",
       "      <td>08117</td>\n",
       "      <td>081170930</td>\n",
       "    </tr>\n",
       "  </tbody>\n",
       "</table>\n",
       "</div>"
      ],
      "text/plain": [
       "      report_id  year_code  month_code state_fipcode county_fipcode  \\\n",
       "43488    184421       2024          11            08           C117   \n",
       "\n",
       "      city_fipcode fips_five  fips_nine  \n",
       "43488         0930     08117  081170930  "
      ]
     },
     "execution_count": 11,
     "metadata": {},
     "output_type": "execute_result"
    }
   ],
   "source": [
    "# visual inspection\n",
    "ufo_data_main_df.sample()"
   ]
  },
  {
   "cell_type": "code",
   "execution_count": 12,
   "id": "94afbef3-df76-491d-8928-3be6057f44c5",
   "metadata": {},
   "outputs": [
    {
     "name": "stdout",
     "output_type": "stream",
     "text": [
      "2025-02-01 00:33:06,645 INFO sqlalchemy.engine.Engine BEGIN (implicit)\n",
      "2025-02-01 00:33:06,659 INFO sqlalchemy.engine.Engine PRAGMA main.table_info(\"ufo_data\")\n",
      "2025-02-01 00:33:06,660 INFO sqlalchemy.engine.Engine [raw sql] ()\n",
      "2025-02-01 00:33:06,662 INFO sqlalchemy.engine.Engine PRAGMA temp.table_info(\"ufo_data\")\n",
      "2025-02-01 00:33:06,664 INFO sqlalchemy.engine.Engine [raw sql] ()\n",
      "2025-02-01 00:33:06,666 INFO sqlalchemy.engine.Engine \n",
      "CREATE TABLE ufo_data (\n",
      "\treport_id BIGINT, \n",
      "\tyear_code INTEGER, \n",
      "\tmonth_code INTEGER, \n",
      "\tstate_fipcode TEXT, \n",
      "\tcounty_fipcode TEXT, \n",
      "\tcity_fipcode TEXT, \n",
      "\tfips_five TEXT, \n",
      "\tfips_nine TEXT\n",
      ")\n",
      "\n",
      "\n",
      "2025-02-01 00:33:06,667 INFO sqlalchemy.engine.Engine [no key 0.00101s] ()\n",
      "2025-02-01 00:33:07,568 INFO sqlalchemy.engine.Engine INSERT INTO ufo_data (report_id, year_code, month_code, state_fipcode, county_fipcode, city_fipcode, fips_five, fips_nine) VALUES (?, ?, ?, ?, ?, ?, ?, ?)\n",
      "2025-02-01 00:33:07,569 INFO sqlalchemy.engine.Engine [generated in 0.71019s] [(58873, 2007, 9, '35', 'C045', '0115', '35045', '350450115'), (57430, 2007, 7, '06', 'C059', '2199', '06059', '060592199'), (71348, 2006, 12, '04', 'C013', '0370', '04013', '040130370'), (71370, 2006, 12, '04', 'C013', '0370', '04013', '040130370'), (52772, 2006, 10, '08', 'C055', '9999', '08055', '080559999'), (52777, 2006, 10, '08', 'C999', '9999', '08999', '089999999'), (52058, 2006, 8, '45', 'C051', '9999', '45051', '450519999'), (57262, 2006, 8, '06', 'C037', '1980', '06037', '060371980')  ... displaying 10 of 128365 total bound parameter sets ...  (60204, 2007, 12, '48', 'C297', '0500', '48297', '482970500'), (60172, 2007, 12, '12', 'C193', '0115', '12193', '121930115')]\n",
      "2025-02-01 00:33:07,833 INFO sqlalchemy.engine.Engine COMMIT\n"
     ]
    }
   ],
   "source": [
    "# Exporting dataframe into sql database\n",
    "db_tool.export_to_sql(ufo_data_main_df, \"ufo_data\")"
   ]
  },
  {
   "cell_type": "code",
   "execution_count": 13,
   "id": "3ddc7df0-5eca-46ca-8529-63bcc18fc0c8",
   "metadata": {},
   "outputs": [],
   "source": [
    "# Confirmation sql query\n",
    "test_sql = \"SELECT * FROM ufo_data\""
   ]
  },
  {
   "cell_type": "code",
   "execution_count": 14,
   "id": "d273718a-f248-4a34-994b-83f159067f26",
   "metadata": {},
   "outputs": [],
   "source": [
    "# Creating empty dataframe\n",
    "confirm_db_load_df = pd.DataFrame()"
   ]
  },
  {
   "cell_type": "code",
   "execution_count": 15,
   "id": "cc142f05-1a96-4b2b-a21f-0a030649db7c",
   "metadata": {},
   "outputs": [
    {
     "name": "stdout",
     "output_type": "stream",
     "text": [
      "2025-02-01 00:33:07,870 INFO sqlalchemy.engine.Engine BEGIN (implicit)\n",
      "2025-02-01 00:33:07,871 INFO sqlalchemy.engine.Engine PRAGMA main.table_info(\"SELECT * FROM ufo_data\")\n",
      "2025-02-01 00:33:07,871 INFO sqlalchemy.engine.Engine [raw sql] ()\n",
      "2025-02-01 00:33:07,873 INFO sqlalchemy.engine.Engine PRAGMA temp.table_info(\"SELECT * FROM ufo_data\")\n",
      "2025-02-01 00:33:07,873 INFO sqlalchemy.engine.Engine [raw sql] ()\n",
      "2025-02-01 00:33:07,874 INFO sqlalchemy.engine.Engine SELECT * FROM ufo_data\n",
      "2025-02-01 00:33:07,876 INFO sqlalchemy.engine.Engine [raw sql] ()\n",
      "2025-02-01 00:33:08,333 INFO sqlalchemy.engine.Engine COMMIT\n"
     ]
    }
   ],
   "source": [
    "# Exporting data from sql database into empty dataframe\n",
    "confirm_db_load_df = db_tool.export_df_from_sql(test_sql, confirm_db_load_df)"
   ]
  },
  {
   "cell_type": "code",
   "execution_count": 16,
   "id": "c6434007-6e1e-4ca4-92d3-575ecbcb753f",
   "metadata": {},
   "outputs": [
    {
     "data": {
      "text/html": [
       "<div>\n",
       "<style scoped>\n",
       "    .dataframe tbody tr th:only-of-type {\n",
       "        vertical-align: middle;\n",
       "    }\n",
       "\n",
       "    .dataframe tbody tr th {\n",
       "        vertical-align: top;\n",
       "    }\n",
       "\n",
       "    .dataframe thead th {\n",
       "        text-align: right;\n",
       "    }\n",
       "</style>\n",
       "<table border=\"1\" class=\"dataframe\">\n",
       "  <thead>\n",
       "    <tr style=\"text-align: right;\">\n",
       "      <th></th>\n",
       "      <th>report_id</th>\n",
       "      <th>year_code</th>\n",
       "      <th>month_code</th>\n",
       "      <th>state_fipcode</th>\n",
       "      <th>county_fipcode</th>\n",
       "      <th>city_fipcode</th>\n",
       "      <th>fips_five</th>\n",
       "      <th>fips_nine</th>\n",
       "    </tr>\n",
       "  </thead>\n",
       "  <tbody>\n",
       "    <tr>\n",
       "      <th>0</th>\n",
       "      <td>58873</td>\n",
       "      <td>2007</td>\n",
       "      <td>9</td>\n",
       "      <td>35</td>\n",
       "      <td>C045</td>\n",
       "      <td>0115</td>\n",
       "      <td>35045</td>\n",
       "      <td>350450115</td>\n",
       "    </tr>\n",
       "    <tr>\n",
       "      <th>1</th>\n",
       "      <td>57430</td>\n",
       "      <td>2007</td>\n",
       "      <td>7</td>\n",
       "      <td>06</td>\n",
       "      <td>C059</td>\n",
       "      <td>2199</td>\n",
       "      <td>06059</td>\n",
       "      <td>060592199</td>\n",
       "    </tr>\n",
       "    <tr>\n",
       "      <th>2</th>\n",
       "      <td>71348</td>\n",
       "      <td>2006</td>\n",
       "      <td>12</td>\n",
       "      <td>04</td>\n",
       "      <td>C013</td>\n",
       "      <td>0370</td>\n",
       "      <td>04013</td>\n",
       "      <td>040130370</td>\n",
       "    </tr>\n",
       "    <tr>\n",
       "      <th>3</th>\n",
       "      <td>71370</td>\n",
       "      <td>2006</td>\n",
       "      <td>12</td>\n",
       "      <td>04</td>\n",
       "      <td>C013</td>\n",
       "      <td>0370</td>\n",
       "      <td>04013</td>\n",
       "      <td>040130370</td>\n",
       "    </tr>\n",
       "    <tr>\n",
       "      <th>4</th>\n",
       "      <td>52772</td>\n",
       "      <td>2006</td>\n",
       "      <td>10</td>\n",
       "      <td>08</td>\n",
       "      <td>C055</td>\n",
       "      <td>9999</td>\n",
       "      <td>08055</td>\n",
       "      <td>080559999</td>\n",
       "    </tr>\n",
       "  </tbody>\n",
       "</table>\n",
       "</div>"
      ],
      "text/plain": [
       "   report_id  year_code  month_code state_fipcode county_fipcode city_fipcode  \\\n",
       "0      58873       2007           9            35           C045         0115   \n",
       "1      57430       2007           7            06           C059         2199   \n",
       "2      71348       2006          12            04           C013         0370   \n",
       "3      71370       2006          12            04           C013         0370   \n",
       "4      52772       2006          10            08           C055         9999   \n",
       "\n",
       "  fips_five  fips_nine  \n",
       "0     35045  350450115  \n",
       "1     06059  060592199  \n",
       "2     04013  040130370  \n",
       "3     04013  040130370  \n",
       "4     08055  080559999  "
      ]
     },
     "execution_count": 16,
     "metadata": {},
     "output_type": "execute_result"
    }
   ],
   "source": [
    "# Visual inspection\n",
    "confirm_db_load_df.head()"
   ]
  },
  {
   "cell_type": "code",
   "execution_count": 17,
   "id": "d3f97500-e155-4093-8d13-45aa79f43511",
   "metadata": {},
   "outputs": [
    {
     "name": "stdout",
     "output_type": "stream",
     "text": [
      "<class 'pandas.core.frame.DataFrame'>\n",
      "RangeIndex: 128365 entries, 0 to 128364\n",
      "Data columns (total 8 columns):\n",
      " #   Column          Non-Null Count   Dtype \n",
      "---  ------          --------------   ----- \n",
      " 0   report_id       128365 non-null  int64 \n",
      " 1   year_code       128365 non-null  int64 \n",
      " 2   month_code      128365 non-null  int64 \n",
      " 3   state_fipcode   128365 non-null  object\n",
      " 4   county_fipcode  128365 non-null  object\n",
      " 5   city_fipcode    128365 non-null  object\n",
      " 6   fips_five       128365 non-null  object\n",
      " 7   fips_nine       128365 non-null  object\n",
      "dtypes: int64(3), object(5)\n",
      "memory usage: 7.8+ MB\n"
     ]
    }
   ],
   "source": [
    "# Getting info of export\n",
    "confirm_db_load_df.info()"
   ]
  },
  {
   "cell_type": "code",
   "execution_count": 18,
   "id": "f57265db-15b2-4a03-982a-90622ceb7fd0",
   "metadata": {},
   "outputs": [
    {
     "name": "stdout",
     "output_type": "stream",
     "text": [
      "<class 'pandas.core.frame.DataFrame'>\n",
      "Index: 128365 entries, 0 to 128364\n",
      "Data columns (total 8 columns):\n",
      " #   Column          Non-Null Count   Dtype \n",
      "---  ------          --------------   ----- \n",
      " 0   report_id       128365 non-null  object\n",
      " 1   year_code       128365 non-null  int32 \n",
      " 2   month_code      128365 non-null  int32 \n",
      " 3   state_fipcode   128365 non-null  object\n",
      " 4   county_fipcode  128365 non-null  object\n",
      " 5   city_fipcode    128365 non-null  object\n",
      " 6   fips_five       128365 non-null  object\n",
      " 7   fips_nine       128365 non-null  object\n",
      "dtypes: int32(2), object(6)\n",
      "memory usage: 7.8+ MB\n"
     ]
    }
   ],
   "source": [
    "# Getting info of original\n",
    "ufo_data_main_df.info()"
   ]
  },
  {
   "cell_type": "code",
   "execution_count": 19,
   "id": "26c9e71e-395d-4f70-bc5c-8db7a8e74b18",
   "metadata": {},
   "outputs": [],
   "source": [
    "# Copying test export to a new dataframe\n",
    "cleaned_ufo_data_main_df = confirm_db_load_df.copy()"
   ]
  },
  {
   "cell_type": "code",
   "execution_count": 20,
   "id": "c89d1f19-5584-42ca-8cef-86ad001dc493",
   "metadata": {},
   "outputs": [],
   "source": [
    "# Saving cleaned data from the export to the cleaned data directory"
   ]
  },
  {
   "cell_type": "code",
   "execution_count": 21,
   "id": "c7f1935a-84c8-4c2e-b231-3f8864bf35b9",
   "metadata": {},
   "outputs": [],
   "source": [
    "#### #### #### #### #### #### #### #### #### #### #### #### #### #### #### #### #### #### #### #### #### #### #### #### #### #### #### #### #### #### #### #### \n",
    "#### #### #### #### #### #### #### #### #### ####                                                   #### #### #### #### #### #### #### #### #### #### #### #### \n",
    "#### #### #### #### #### #### #### #### #### ####                   CHECK POINT                     #### #### #### #### #### #### #### #### #### #### #### #### \n",
    "#### #### #### #### #### #### #### #### #### ####                                                   #### #### #### #### #### #### #### #### #### #### #### #### \n",
    "#### #### #### #### #### #### #### #### #### #### #### #### #### #### #### #### #### #### #### #### #### #### #### #### #### #### #### #### #### #### #### #### \n",
    "\n",
    "\n",
    "CheckPoint.create_checkpoint(\"cleaned_ufo_data\", \"ufo_data_main_df\", cleaned_ufo_data_main_df)\n",
    "\n",
    "\n",
    "#### #### #### #### #### #### #### #### #### #### #### #### #### #### #### #### #### #### #### #### #### #### #### #### #### #### #### #### #### #### #### #### \n",
    "#### #### #### #### #### #### #### #### #### ####                                                   #### #### #### #### #### #### #### #### #### #### #### #### \n",
    "#### #### #### #### #### #### #### #### #### ####                   CHECK POINT                     #### #### #### #### #### #### #### #### #### #### #### #### \n",
    "#### #### #### #### #### #### #### #### #### ####                                                   #### #### #### #### #### #### #### #### #### #### #### #### \n",
    "#### #### #### #### #### #### #### #### #### #### #### #### #### #### #### #### #### #### #### #### #### #### #### #### #### #### #### #### #### #### #### #### "
   ]
  },
  {
   "cell_type": "code",
   "execution_count": 22,
   "id": "f5a457d5-3471-42fb-9a75-f5228aeb18fa",
   "metadata": {},
   "outputs": [],
   "source": [
    "# Cleanup\n",
    "del confirm_db_load_df\n",
    "del ufo_data_main_df\n",
    "del cleaned_ufo_data_main_df"
   ]
  },
  {
   "cell_type": "code",
   "execution_count": 23,
   "id": "647944cd-5c6b-47c3-8b28-7b6cd9960abf",
   "metadata": {},
   "outputs": [
    {
     "name": "stdout",
     "output_type": "stream",
     "text": [
      "Files archived successfully.\n",
      "Deleted: D:\\WGU\\New folder\\D497\\WGU_D497_Project_1\\data\\processed_data\\ufo_data\\ufo_data_main_fips_complete.csv\n",
      "Deleted: D:\\WGU\\New folder\\D497\\WGU_D497_Project_1\\data\\processed_data\\ufo_data\\ufo_data_main_fips_complete.pkl\n",
      "WGU/New folder/D497/WGU_D497_Project_1/data/processed_data/ufo_data/ufo_data_main_fips_complete.csv\n",
      "\tModified:\t2025-02-01 00:32:32\n",
      "\tSystem:\t\t0(0 = Windows, 3 = Unix)\n",
      "\tZIP version:\t20\n",
      "\tCompressed:\t5609043 bytes\n",
      "\tUncompressed:\t5609043 bytes\n",
      "WGU/New folder/D497/WGU_D497_Project_1/data/processed_data/ufo_data/ufo_data_main_fips_complete.pkl\n",
      "\tModified:\t2025-02-01 00:32:32\n",
      "\tSystem:\t\t0(0 = Windows, 3 = Unix)\n",
      "\tZIP version:\t20\n",
      "\tCompressed:\t7197005 bytes\n",
      "\tUncompressed:\t7197005 bytes\n"
     ]
    }
   ],
   "source": [
    "# Archiving data from previous step to archive folder\n",
    "set_search_pattern = \"ufo_data_main_fips\"\n",
    "set_search_folder = \"processed_ufo_data\"\n",
    "set_save_folder = \"archived_ufo_data\"\n",
    "set_save_file = \"UFO_Data_Data_Cleaning_FIPS_Addition\"\n",
    "filter_extension = False\n",
    "filter_by_file_extension = None\n",
    "archive_module.create_archive(set_search_pattern, set_search_folder, set_save_folder, set_save_file, filter_extension, filter_by_file_extension, delete=True)"
   ]
  },
  {
   "cell_type": "markdown",
   "id": "53dd66bf-bb89-4b45-9b00-de103752cd57",
   "metadata": {},
   "source": [
    "## [Next Step: Data Transformation - UFO Data Aggregation](data_transformation_ufo_data_aggregation.ipynb)\n",
    "---\n",
    "#### [Return To Landing Page](order_of_operations_landing.ipynb)\n"
   ]
  }
 ],
 "metadata": {
  "kernelspec": {
   "display_name": "Python 3 (ipykernel)",
   "language": "python",
   "name": "python3"
  },
  "language_info": {
   "codemirror_mode": {
    "name": "ipython",
    "version": 3
   },
   "file_extension": ".py",
   "mimetype": "text/x-python",
   "name": "python",
   "nbconvert_exporter": "python",
   "pygments_lexer": "ipython3",
   "version": "3.13.1"
  }
 },
 "nbformat": 4,
 "nbformat_minor": 5
}
