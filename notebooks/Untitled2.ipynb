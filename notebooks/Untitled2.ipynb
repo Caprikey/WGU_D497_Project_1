{
 "cells": [
  {
   "cell_type": "code",
   "execution_count": 1,
   "id": "56d32d2b-a7b1-4178-b5ea-2fb0cdb2a2a2",
   "metadata": {},
   "outputs": [],
   "source": [
    "# Importing Modules\n",
    "import sys\n",
    "import os\n",
    "\n",
    "# Add the root directory to sys.path\n",
    "sys.path.append(os.path.abspath(\"..\"))\n",
    "\n",
    "# Now you can use absolute imports\n",
    "from d497_helpers import folder_manager as fm, archive_module, checkpoint_helper as CheckPoint, database_helper as db_tool, config, import_dataframe\n",
    "\n",
    "# Pandas\n",
    "import pandas as pd\n",
    "\n",
    "# Numpy\n",
    "import numpy as np\n"
   ]
  },
  {
   "cell_type": "code",
   "execution_count": 2,
   "id": "9ce50399-47d4-4bc4-b393-927c48b0652c",
   "metadata": {},
   "outputs": [],
   "source": [
    "import_ufo_data_main_csv, import_ufo_data_main_pickle = import_dataframe.import_dataframe(\"ufo_data\", \"cleaned\", \"ufo_data_main_df\")"
   ]
  },
  {
   "cell_type": "code",
   "execution_count": 3,
   "id": "0c071e6c-b0dd-4ea0-bd49-4390fc8de9b5",
   "metadata": {},
   "outputs": [],
   "source": [
    "ufo_data_main_df = import_ufo_data_main_pickle.copy()"
   ]
  },
  {
   "cell_type": "code",
   "execution_count": 4,
   "id": "9ed005b6-6119-42c4-9ca8-67d30b60b010",
   "metadata": {},
   "outputs": [
    {
     "name": "stdout",
     "output_type": "stream",
     "text": [
      "<class 'pandas.core.frame.DataFrame'>\n",
      "RangeIndex: 128085 entries, 0 to 128084\n",
      "Data columns (total 8 columns):\n",
      " #   Column          Non-Null Count   Dtype \n",
      "---  ------          --------------   ----- \n",
      " 0   report_id       128085 non-null  int64 \n",
      " 1   year_code       128085 non-null  int64 \n",
      " 2   month_code      128085 non-null  int64 \n",
      " 3   state_fipcode   128085 non-null  object\n",
      " 4   county_fipcode  128085 non-null  object\n",
      " 5   city_fipcode    128085 non-null  object\n",
      " 6   fips_five       128085 non-null  object\n",
      " 7   fips_nine       128085 non-null  object\n",
      "dtypes: int64(3), object(5)\n",
      "memory usage: 7.8+ MB\n"
     ]
    }
   ],
   "source": [
    "ufo_data_main_df.info()"
   ]
  },
  {
   "cell_type": "code",
   "execution_count": 8,
   "id": "69734c44-b826-4032-b86a-0c18ba11d244",
   "metadata": {},
   "outputs": [
    {
     "data": {
      "text/plain": [
       "array(['35045', '06059', '04013', ..., '51123', '34111', '41399'],\n",
       "      shape=(4521,), dtype=object)"
      ]
     },
     "execution_count": 8,
     "metadata": {},
     "output_type": "execute_result"
    }
   ],
   "source": [
    "ufo_data_main_df['fips_five'].unique().to_dict()"
   ]
  }
 ],
 "metadata": {
  "kernelspec": {
   "display_name": "Python 3 (ipykernel)",
   "language": "python",
   "name": "python3"
  },
  "language_info": {
   "codemirror_mode": {
    "name": "ipython",
    "version": 3
   },
   "file_extension": ".py",
   "mimetype": "text/x-python",
   "name": "python",
   "nbconvert_exporter": "python",
   "pygments_lexer": "ipython3",
   "version": "3.13.1"
  }
 },
 "nbformat": 4,
 "nbformat_minor": 5
}
